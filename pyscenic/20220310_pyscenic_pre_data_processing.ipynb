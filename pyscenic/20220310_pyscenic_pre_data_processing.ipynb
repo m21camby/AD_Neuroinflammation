{
 "cells": [
  {
   "cell_type": "markdown",
   "id": "82ab8e47",
   "metadata": {},
   "source": [
    "This file is for running pyscenic and preprocessing 10X data.\n",
    "\n",
    "[tutorial ref](https://www.nature.com/articles/s41596-020-0336-2)"
   ]
  },
  {
   "cell_type": "code",
   "execution_count": 1,
   "id": "be1de7d8",
   "metadata": {},
   "outputs": [
    {
     "name": "stderr",
     "output_type": "stream",
     "text": [
      "OMP: Info #276: omp_set_nested routine deprecated, please use omp_set_max_active_levels instead.\n"
     ]
    }
   ],
   "source": [
    "import scanpy as sc\n",
    "import loompy as lp\n",
    "import numpy as np"
   ]
  },
  {
   "cell_type": "code",
   "execution_count": 18,
   "id": "e7ecfea8",
   "metadata": {},
   "outputs": [],
   "source": [
    "adata = sc.read_10x_mtx('/data/rajewsky/home/skim/Microglia_Heppner/201912_10X_9sets/SP064_All_025_3p/outs/filtered_feature_bc_matrix/')"
   ]
  },
  {
   "cell_type": "code",
   "execution_count": 19,
   "id": "465d6f87",
   "metadata": {},
   "outputs": [
    {
     "data": {
      "text/plain": [
       "AnnData object with n_obs × n_vars = 84039 × 55421\n",
       "    var: 'gene_ids', 'feature_types'"
      ]
     },
     "execution_count": 19,
     "metadata": {},
     "output_type": "execute_result"
    }
   ],
   "source": [
    "adata2 = adata\n",
    "adata2"
   ]
  },
  {
   "cell_type": "code",
   "execution_count": 20,
   "id": "dcf91dd7",
   "metadata": {},
   "outputs": [],
   "source": [
    "# compute the number of genes per cell (computes ‘n_genes' column)\n",
    "sc.pp.filter_cells(adata2, min_genes=0)\n",
    "\n",
    "# mito and genes/counts cutsadata_sub = adata2[CB]\n",
    "#adata_sub\n",
    "mito_genes = adata2.var_names.str.startswith('mt-')"
   ]
  },
  {
   "cell_type": "code",
   "execution_count": 21,
   "id": "5b3e53b6",
   "metadata": {},
   "outputs": [],
   "source": [
    "# for each cell compute fraction of counts in mito genes vs. all genes\n",
    "adata2.obs['percent_mito'] = np.ravel(np.sum(adata2[:, mito_genes].X, axis=1)) / np.ravel(np.sum(adata2.X, axis=1))\n",
    "\n",
    "# add the total counts per cell as observations-annotation to adata\n",
    "adata2.obs['n_counts'] = np.ravel(adata2.X.sum(axis=1))"
   ]
  },
  {
   "cell_type": "code",
   "execution_count": 22,
   "id": "37451a7a",
   "metadata": {},
   "outputs": [
    {
     "data": {
      "text/plain": [
       "AnnData object with n_obs × n_vars = 84039 × 55421\n",
       "    obs: 'n_genes', 'percent_mito', 'n_counts'\n",
       "    var: 'gene_ids', 'feature_types'"
      ]
     },
     "execution_count": 22,
     "metadata": {},
     "output_type": "execute_result"
    }
   ],
   "source": [
    "adata2"
   ]
  },
  {
   "cell_type": "code",
   "execution_count": 23,
   "id": "65dd8fe5",
   "metadata": {},
   "outputs": [
    {
     "data": {
      "text/html": [
       "<div>\n",
       "<style scoped>\n",
       "    .dataframe tbody tr th:only-of-type {\n",
       "        vertical-align: middle;\n",
       "    }\n",
       "\n",
       "    .dataframe tbody tr th {\n",
       "        vertical-align: top;\n",
       "    }\n",
       "\n",
       "    .dataframe thead th {\n",
       "        text-align: right;\n",
       "    }\n",
       "</style>\n",
       "<table border=\"1\" class=\"dataframe\">\n",
       "  <thead>\n",
       "    <tr style=\"text-align: right;\">\n",
       "      <th></th>\n",
       "      <th>n_genes</th>\n",
       "      <th>percent_mito</th>\n",
       "      <th>n_counts</th>\n",
       "    </tr>\n",
       "  </thead>\n",
       "  <tbody>\n",
       "    <tr>\n",
       "      <th>AAACCCAAGGCTCTAT-1</th>\n",
       "      <td>1396</td>\n",
       "      <td>0.000407</td>\n",
       "      <td>2455.0</td>\n",
       "    </tr>\n",
       "    <tr>\n",
       "      <th>AAACCCAAGTGACACG-1</th>\n",
       "      <td>1927</td>\n",
       "      <td>0.000000</td>\n",
       "      <td>3518.0</td>\n",
       "    </tr>\n",
       "    <tr>\n",
       "      <th>AAACCCACAATGGCCC-1</th>\n",
       "      <td>1276</td>\n",
       "      <td>0.001789</td>\n",
       "      <td>2236.0</td>\n",
       "    </tr>\n",
       "    <tr>\n",
       "      <th>AAACCCACAGATCCAT-1</th>\n",
       "      <td>1256</td>\n",
       "      <td>0.001809</td>\n",
       "      <td>2211.0</td>\n",
       "    </tr>\n",
       "    <tr>\n",
       "      <th>AAACCCAGTCACTCTC-1</th>\n",
       "      <td>538</td>\n",
       "      <td>0.001316</td>\n",
       "      <td>760.0</td>\n",
       "    </tr>\n",
       "    <tr>\n",
       "      <th>...</th>\n",
       "      <td>...</td>\n",
       "      <td>...</td>\n",
       "      <td>...</td>\n",
       "    </tr>\n",
       "    <tr>\n",
       "      <th>TTTGTTGGTTCGTTCC-9</th>\n",
       "      <td>2041</td>\n",
       "      <td>0.000228</td>\n",
       "      <td>4390.0</td>\n",
       "    </tr>\n",
       "    <tr>\n",
       "      <th>TTTGTTGGTTGGCCTG-9</th>\n",
       "      <td>2035</td>\n",
       "      <td>0.000245</td>\n",
       "      <td>4084.0</td>\n",
       "    </tr>\n",
       "    <tr>\n",
       "      <th>TTTGTTGGTTGGTACT-9</th>\n",
       "      <td>443</td>\n",
       "      <td>0.003044</td>\n",
       "      <td>657.0</td>\n",
       "    </tr>\n",
       "    <tr>\n",
       "      <th>TTTGTTGTCGACATTG-9</th>\n",
       "      <td>981</td>\n",
       "      <td>0.002983</td>\n",
       "      <td>1676.0</td>\n",
       "    </tr>\n",
       "    <tr>\n",
       "      <th>TTTGTTGTCGCGCCAA-9</th>\n",
       "      <td>493</td>\n",
       "      <td>0.001431</td>\n",
       "      <td>699.0</td>\n",
       "    </tr>\n",
       "  </tbody>\n",
       "</table>\n",
       "<p>84039 rows × 3 columns</p>\n",
       "</div>"
      ],
      "text/plain": [
       "                    n_genes  percent_mito  n_counts\n",
       "AAACCCAAGGCTCTAT-1     1396      0.000407    2455.0\n",
       "AAACCCAAGTGACACG-1     1927      0.000000    3518.0\n",
       "AAACCCACAATGGCCC-1     1276      0.001789    2236.0\n",
       "AAACCCACAGATCCAT-1     1256      0.001809    2211.0\n",
       "AAACCCAGTCACTCTC-1      538      0.001316     760.0\n",
       "...                     ...           ...       ...\n",
       "TTTGTTGGTTCGTTCC-9     2041      0.000228    4390.0\n",
       "TTTGTTGGTTGGCCTG-9     2035      0.000245    4084.0\n",
       "TTTGTTGGTTGGTACT-9      443      0.003044     657.0\n",
       "TTTGTTGTCGACATTG-9      981      0.002983    1676.0\n",
       "TTTGTTGTCGCGCCAA-9      493      0.001431     699.0\n",
       "\n",
       "[84039 rows x 3 columns]"
      ]
     },
     "execution_count": 23,
     "metadata": {},
     "output_type": "execute_result"
    }
   ],
   "source": [
    "adata2.obs"
   ]
  },
  {
   "cell_type": "code",
   "execution_count": 24,
   "id": "b162df50",
   "metadata": {},
   "outputs": [
    {
     "data": {
      "text/plain": [
       "array(['AAACCCAAGGCTCTAT-1', 'AAACCCAAGTGACACG-1', 'AAACCCACAATGGCCC-1',\n",
       "       ..., 'TTTGTTGGTTGGTACT-9', 'TTTGTTGTCGACATTG-9',\n",
       "       'TTTGTTGTCGCGCCAA-9'], dtype='<U18')"
      ]
     },
     "execution_count": 24,
     "metadata": {},
     "output_type": "execute_result"
    }
   ],
   "source": [
    "CB_list= open(\"/data/rajewsky/home/skim/Microglia_Heppner/201912_10X_9sets/pyscenic/20220310_pyscenic_pre_data_processing_meta_Seurat_pyscenic_CB.txt\")\n",
    "lines = CB_list.read().splitlines()\n",
    "CB = np.array(lines)\n",
    "CB"
   ]
  },
  {
   "cell_type": "code",
   "execution_count": 25,
   "id": "4a1ca08c",
   "metadata": {},
   "outputs": [
    {
     "data": {
      "text/plain": [
       "View of AnnData object with n_obs × n_vars = 82298 × 55421\n",
       "    obs: 'n_genes', 'percent_mito', 'n_counts'\n",
       "    var: 'gene_ids', 'feature_types'"
      ]
     },
     "execution_count": 25,
     "metadata": {},
     "output_type": "execute_result"
    }
   ],
   "source": [
    "adata_sub = adata2[CB]\n",
    "adata_sub"
   ]
  },
  {
   "cell_type": "code",
   "execution_count": 26,
   "id": "94afe061",
   "metadata": {},
   "outputs": [
    {
     "name": "stderr",
     "output_type": "stream",
     "text": [
      "Trying to set attribute `.var` of view, copying.\n"
     ]
    }
   ],
   "source": [
    "#subset = nCount_RNA < 30000 & nCount_RNA > 500 & percent.mt < 5)\n",
    "#sc.pp.filter_cells(adata_sub, min_genes=200)\n",
    "sc.pp.filter_genes(adata_sub, min_cells=3)\n",
    "\n",
    "#adata_sub = adata_sub[adata_sub.obs['n_counts'] > 500, :]\n",
    "#adata_sub = adata_sub[adata_sub.obs['n_counts'] < 30000, :]\n",
    "#adata_sub = adata_sub[adata_sub.obs['percent_mito'] < 0.05, :]"
   ]
  },
  {
   "cell_type": "code",
   "execution_count": 29,
   "id": "b94bc594",
   "metadata": {},
   "outputs": [
    {
     "data": {
      "text/html": [
       "<div>\n",
       "<style scoped>\n",
       "    .dataframe tbody tr th:only-of-type {\n",
       "        vertical-align: middle;\n",
       "    }\n",
       "\n",
       "    .dataframe tbody tr th {\n",
       "        vertical-align: top;\n",
       "    }\n",
       "\n",
       "    .dataframe thead th {\n",
       "        text-align: right;\n",
       "    }\n",
       "</style>\n",
       "<table border=\"1\" class=\"dataframe\">\n",
       "  <thead>\n",
       "    <tr style=\"text-align: right;\">\n",
       "      <th></th>\n",
       "      <th>gene_ids</th>\n",
       "      <th>feature_types</th>\n",
       "      <th>n_cells</th>\n",
       "    </tr>\n",
       "  </thead>\n",
       "  <tbody>\n",
       "    <tr>\n",
       "      <th>4933401J01Rik</th>\n",
       "      <td>ENSMUSG00000102693</td>\n",
       "      <td>Gene Expression</td>\n",
       "      <td>3</td>\n",
       "    </tr>\n",
       "    <tr>\n",
       "      <th>Xkr4</th>\n",
       "      <td>ENSMUSG00000051951</td>\n",
       "      <td>Gene Expression</td>\n",
       "      <td>50409</td>\n",
       "    </tr>\n",
       "    <tr>\n",
       "      <th>Gm18956</th>\n",
       "      <td>ENSMUSG00000102851</td>\n",
       "      <td>Gene Expression</td>\n",
       "      <td>99</td>\n",
       "    </tr>\n",
       "    <tr>\n",
       "      <th>Gm1992</th>\n",
       "      <td>ENSMUSG00000089699</td>\n",
       "      <td>Gene Expression</td>\n",
       "      <td>19672</td>\n",
       "    </tr>\n",
       "    <tr>\n",
       "      <th>Gm7341</th>\n",
       "      <td>ENSMUSG00000103147</td>\n",
       "      <td>Gene Expression</td>\n",
       "      <td>15</td>\n",
       "    </tr>\n",
       "    <tr>\n",
       "      <th>...</th>\n",
       "      <td>...</td>\n",
       "      <td>...</td>\n",
       "      <td>...</td>\n",
       "    </tr>\n",
       "    <tr>\n",
       "      <th>AC125149.3</th>\n",
       "      <td>ENSMUSG00000079800</td>\n",
       "      <td>Gene Expression</td>\n",
       "      <td>64</td>\n",
       "    </tr>\n",
       "    <tr>\n",
       "      <th>AC168977.1</th>\n",
       "      <td>ENSMUSG00000079808</td>\n",
       "      <td>Gene Expression</td>\n",
       "      <td>22</td>\n",
       "    </tr>\n",
       "    <tr>\n",
       "      <th>AC149090.1</th>\n",
       "      <td>ENSMUSG00000095041</td>\n",
       "      <td>Gene Expression</td>\n",
       "      <td>38388</td>\n",
       "    </tr>\n",
       "    <tr>\n",
       "      <th>CAAA01118383.1</th>\n",
       "      <td>ENSMUSG00000063897</td>\n",
       "      <td>Gene Expression</td>\n",
       "      <td>2687</td>\n",
       "    </tr>\n",
       "    <tr>\n",
       "      <th>CAAA01147332.1</th>\n",
       "      <td>ENSMUSG00000095742</td>\n",
       "      <td>Gene Expression</td>\n",
       "      <td>69</td>\n",
       "    </tr>\n",
       "  </tbody>\n",
       "</table>\n",
       "<p>31736 rows × 3 columns</p>\n",
       "</div>"
      ],
      "text/plain": [
       "                          gene_ids    feature_types  n_cells\n",
       "4933401J01Rik   ENSMUSG00000102693  Gene Expression        3\n",
       "Xkr4            ENSMUSG00000051951  Gene Expression    50409\n",
       "Gm18956         ENSMUSG00000102851  Gene Expression       99\n",
       "Gm1992          ENSMUSG00000089699  Gene Expression    19672\n",
       "Gm7341          ENSMUSG00000103147  Gene Expression       15\n",
       "...                            ...              ...      ...\n",
       "AC125149.3      ENSMUSG00000079800  Gene Expression       64\n",
       "AC168977.1      ENSMUSG00000079808  Gene Expression       22\n",
       "AC149090.1      ENSMUSG00000095041  Gene Expression    38388\n",
       "CAAA01118383.1  ENSMUSG00000063897  Gene Expression     2687\n",
       "CAAA01147332.1  ENSMUSG00000095742  Gene Expression       69\n",
       "\n",
       "[31736 rows x 3 columns]"
      ]
     },
     "execution_count": 29,
     "metadata": {},
     "output_type": "execute_result"
    }
   ],
   "source": [
    "adata_sub.var"
   ]
  },
  {
   "cell_type": "code",
   "execution_count": 27,
   "id": "792ab5b0",
   "metadata": {},
   "outputs": [
    {
     "data": {
      "text/plain": [
       "{'Gene': array(['4933401J01Rik', 'Xkr4', 'Gm18956', ..., 'AC149090.1',\n",
       "        'CAAA01118383.1', 'CAAA01147332.1'], dtype=object)}"
      ]
     },
     "execution_count": 27,
     "metadata": {},
     "output_type": "execute_result"
    }
   ],
   "source": [
    "row_attrs = {\"Gene\": np.array(adata_sub.var_names),}\n",
    "row_attrs\n"
   ]
  },
  {
   "cell_type": "code",
   "execution_count": 30,
   "id": "fb3b5c64",
   "metadata": {},
   "outputs": [
    {
     "data": {
      "text/plain": [
       "{'CellID': array(['AAACCCAAGGCTCTAT-1', 'AAACCCAAGTGACACG-1', 'AAACCCACAATGGCCC-1',\n",
       "        ..., 'TTTGTTGGTTGGTACT-9', 'TTTGTTGTCGACATTG-9',\n",
       "        'TTTGTTGTCGCGCCAA-9'], dtype=object),\n",
       " 'nGene': array([1396, 1927, 1276, ...,  443,  981,  493]),\n",
       " 'nUMI': array([2455., 3518., 2236., ...,  657., 1676.,  699.], dtype=float32)}"
      ]
     },
     "execution_count": 30,
     "metadata": {},
     "output_type": "execute_result"
    }
   ],
   "source": [
    "col_attrs = {\n",
    "\"CellID\": np.array(adata_sub.obs_names),\n",
    "\"nGene\": np.array(np.sum(adata_sub.X.transpose()>0, axis=0)).flatten(),\n",
    "\"nUMI\": np.array(np.sum(adata_sub.X.transpose(),axis=0)).flatten(),\n",
    "}\n",
    "col_attrs"
   ]
  },
  {
   "cell_type": "code",
   "execution_count": 31,
   "id": "7a972e60",
   "metadata": {},
   "outputs": [],
   "source": [
    "lp.create(\"/data/rajewsky/home/skim/Microglia_Heppner/201912_10X_9sets/pyscenic/filtered.loom\", adata_sub.X.transpose(),row_attrs,\n",
    "col_attrs)"
   ]
  },
  {
   "cell_type": "code",
   "execution_count": null,
   "id": "3f055824",
   "metadata": {},
   "outputs": [],
   "source": []
  },
  {
   "cell_type": "code",
   "execution_count": null,
   "id": "53e502f6",
   "metadata": {},
   "outputs": [],
   "source": []
  },
  {
   "cell_type": "code",
   "execution_count": null,
   "id": "407b4ee6",
   "metadata": {},
   "outputs": [],
   "source": []
  }
 ],
 "metadata": {
  "kernelspec": {
   "display_name": "Python 3 (ipykernel)",
   "language": "python",
   "name": "python3"
  },
  "language_info": {
   "codemirror_mode": {
    "name": "ipython",
    "version": 3
   },
   "file_extension": ".py",
   "mimetype": "text/x-python",
   "name": "python",
   "nbconvert_exporter": "python",
   "pygments_lexer": "ipython3",
   "version": "3.8.11"
  }
 },
 "nbformat": 4,
 "nbformat_minor": 5
}
