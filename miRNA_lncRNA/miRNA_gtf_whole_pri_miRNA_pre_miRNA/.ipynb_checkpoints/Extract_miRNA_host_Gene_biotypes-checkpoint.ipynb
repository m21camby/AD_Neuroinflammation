{
 "cells": [
  {
   "cell_type": "code",
   "execution_count": null,
   "metadata": {},
   "outputs": [],
   "source": []
  },
  {
   "cell_type": "code",
   "execution_count": 1,
   "metadata": {},
   "outputs": [],
   "source": [
    "import pandas as pd\n",
    "import re\n",
    "import numpy as np "
   ]
  },
  {
   "cell_type": "code",
   "execution_count": 29,
   "metadata": {},
   "outputs": [],
   "source": [
    "df = pd.read_csv(\"/data/rajewsky/home/skim/Microglia_Heppner/201912_10X_9sets/miRNA_lncRNA/miRNA_gtf_whole_pri_miRNA_pre_miRNA/putative_protein_coding_pri_miRNA_gene_name_included.txt\", header=None, sep = \"\\t\")"
   ]
  },
  {
   "cell_type": "code",
   "execution_count": 30,
   "metadata": {},
   "outputs": [
    {
     "data": {
      "text/plain": [
       "'gene_id \"ENSMUSG00000026463\"; gene_version \"17\"; gene_name \"Atp2b4\"; gene_source \"ensembl_havana\"; gene_biotype \"protein_coding\"'"
      ]
     },
     "execution_count": 30,
     "metadata": {},
     "output_type": "execute_result"
    }
   ],
   "source": [
    "df.iloc[0,17]"
   ]
  },
  {
   "cell_type": "code",
   "execution_count": 31,
   "metadata": {},
   "outputs": [
    {
     "data": {
      "text/plain": [
       "(933, 18)"
      ]
     },
     "execution_count": 31,
     "metadata": {},
     "output_type": "execute_result"
    }
   ],
   "source": [
    "df.shape"
   ]
  },
  {
   "cell_type": "code",
   "execution_count": 32,
   "metadata": {},
   "outputs": [],
   "source": [
    "# Extract miRNA ID\n",
    "gene_id_protein_coding = []\n",
    "\n",
    "for i in range(0,933):\n",
    "    # extract until ;\n",
    "    gene_id_1st = re.match(r'[^;]+', df.iloc[:,8][i])\n",
    "    # remove gene_id text\n",
    "    gene_id_1st = gene_id_1st.group()\n",
    "    gene_id_2nd = re.sub(r'gene_id \\\"', \" \", gene_id_1st)\n",
    "    # remove last double quotes\n",
    "    gene_id_3rd = re.sub(r'\\\"', \" \", gene_id_2nd)\n",
    "    # remove white space\n",
    "    gene_id_4th = re.sub(r' ', \"\", gene_id_3rd)\n",
    "    gene_id_protein_coding.append(gene_id_4th)"
   ]
  },
  {
   "cell_type": "code",
   "execution_count": 6,
   "metadata": {},
   "outputs": [
    {
     "data": {
      "text/plain": [
       "['mir-6903']"
      ]
     },
     "execution_count": 6,
     "metadata": {},
     "output_type": "execute_result"
    }
   ],
   "source": [
    "gene_id_protein_coding[0:1]"
   ]
  },
  {
   "cell_type": "code",
   "execution_count": 33,
   "metadata": {},
   "outputs": [],
   "source": [
    "# Extract host gene & biotype\n",
    "gene_id_protein_coding2 = []\n",
    "gene_id_protein_coding3 = []\n",
    "\n",
    "for i in range(0,933):\n",
    "    # extract until ;\n",
    "    gene_id_1st = re.search(r'gene_name ([^;]+)', df.iloc[:,17][i])\n",
    "    \n",
    "    # remove last double quotes\n",
    "    gene_id_2nd = re.sub(r'\\\"', \" \", gene_id_1st.group(1))\n",
    "    #print(gene_id_2nd) \n",
    "    \n",
    "    # remove white space\n",
    "    gene_id_3rd = re.sub(r' ', \"\", gene_id_2nd)\n",
    "   \n",
    "    gene_id_protein_coding2.append(gene_id_3rd)\n",
    "    \n",
    "    ######################\n",
    "    # biotype\n",
    "    ######################\n",
    "    biotype_1st = re.search(r'gene_biotype ([^;]+)', df.iloc[:,17][i])\n",
    "    \n",
    "    # remove last double quotes\n",
    "    biotype_2nd = re.sub(r'\\\"', \" \", biotype_1st.group(1))\n",
    "    \n",
    "    # remove white space\n",
    "    biotype_3rd = re.sub(r' ', \"\", biotype_2nd)\n",
    "    \n",
    "    gene_id_protein_coding3.append(biotype_3rd)"
   ]
  },
  {
   "cell_type": "code",
   "execution_count": 34,
   "metadata": {},
   "outputs": [],
   "source": [
    "# Create DF from 3 list\n",
    "df_dict = {'miRNA_ID': gene_id_protein_coding, 'host_gene': gene_id_protein_coding2, 'biotype': gene_id_protein_coding3}\n",
    "final_df = pd.DataFrame.from_dict(df_dict)"
   ]
  },
  {
   "cell_type": "code",
   "execution_count": 35,
   "metadata": {},
   "outputs": [],
   "source": [
    "# Keep overlapping row and keep Unique data\n",
    "final_df = final_df.drop_duplicates()"
   ]
  },
  {
   "cell_type": "code",
   "execution_count": 37,
   "metadata": {},
   "outputs": [],
   "source": [
    "pd.DataFrame(final_df).to_csv(\"Extract_miRNA_host_gene_biotypes.csv\")"
   ]
  },
  {
   "cell_type": "code",
   "execution_count": null,
   "metadata": {},
   "outputs": [],
   "source": []
  },
  {
   "cell_type": "code",
   "execution_count": null,
   "metadata": {},
   "outputs": [],
   "source": []
  }
 ],
 "metadata": {
  "kernelspec": {
   "display_name": "Python 3",
   "language": "python",
   "name": "python3"
  },
  "language_info": {
   "codemirror_mode": {
    "name": "ipython",
    "version": 3
   },
   "file_extension": ".py",
   "mimetype": "text/x-python",
   "name": "python",
   "nbconvert_exporter": "python",
   "pygments_lexer": "ipython3",
   "version": "3.6.9"
  }
 },
 "nbformat": 4,
 "nbformat_minor": 2
}
