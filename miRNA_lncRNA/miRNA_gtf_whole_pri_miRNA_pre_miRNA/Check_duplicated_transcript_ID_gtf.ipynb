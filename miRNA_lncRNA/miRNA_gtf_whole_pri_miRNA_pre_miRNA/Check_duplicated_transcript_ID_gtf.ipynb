{
 "cells": [
  {
   "cell_type": "markdown",
   "metadata": {},
   "source": [
    "This file is for checking duplicated row and transcripts from gtf file of pri_miRNAs"
   ]
  },
  {
   "cell_type": "code",
   "execution_count": 1,
   "metadata": {},
   "outputs": [],
   "source": [
    "import pandas as pd\n",
    "import re"
   ]
  },
  {
   "cell_type": "code",
   "execution_count": 2,
   "metadata": {},
   "outputs": [],
   "source": [
    "df = pd.read_csv(\"/data/rajewsky/home/skim/Microglia_Heppner/201912_10X_9sets/miRNA_lncRNA/miRNA_gtf_whole_pri_miRNA_pre_miRNA/personalized_pri_miRNA_chr_removed_unique.gtf\", header=None, sep = \"\\t\")\n",
    "                 \n",
    "                 "
   ]
  },
  {
   "cell_type": "code",
   "execution_count": 3,
   "metadata": {},
   "outputs": [
    {
     "data": {
      "text/html": [
       "<div>\n",
       "<style scoped>\n",
       "    .dataframe tbody tr th:only-of-type {\n",
       "        vertical-align: middle;\n",
       "    }\n",
       "\n",
       "    .dataframe tbody tr th {\n",
       "        vertical-align: top;\n",
       "    }\n",
       "\n",
       "    .dataframe thead th {\n",
       "        text-align: right;\n",
       "    }\n",
       "</style>\n",
       "<table border=\"1\" class=\"dataframe\">\n",
       "  <thead>\n",
       "    <tr style=\"text-align: right;\">\n",
       "      <th></th>\n",
       "      <th>0</th>\n",
       "      <th>1</th>\n",
       "      <th>2</th>\n",
       "      <th>3</th>\n",
       "      <th>4</th>\n",
       "      <th>5</th>\n",
       "      <th>6</th>\n",
       "      <th>7</th>\n",
       "      <th>8</th>\n",
       "    </tr>\n",
       "  </thead>\n",
       "  <tbody>\n",
       "    <tr>\n",
       "      <th>0</th>\n",
       "      <td>1</td>\n",
       "      <td>StringTie</td>\n",
       "      <td>exon</td>\n",
       "      <td>133726457</td>\n",
       "      <td>133726563</td>\n",
       "      <td>1000.0</td>\n",
       "      <td>-</td>\n",
       "      <td>.</td>\n",
       "      <td>gene_id \"mir-6903\"; transcript_id \"C2C12.5406....</td>\n",
       "    </tr>\n",
       "    <tr>\n",
       "      <th>1</th>\n",
       "      <td>1</td>\n",
       "      <td>StringTie</td>\n",
       "      <td>exon</td>\n",
       "      <td>151442205</td>\n",
       "      <td>151442710</td>\n",
       "      <td>1000.0</td>\n",
       "      <td>+</td>\n",
       "      <td>.</td>\n",
       "      <td>gene_id \"mir-7682\"; transcript_id \"CT26.7616.2...</td>\n",
       "    </tr>\n",
       "    <tr>\n",
       "      <th>2</th>\n",
       "      <td>1</td>\n",
       "      <td>StringTie</td>\n",
       "      <td>exon</td>\n",
       "      <td>153899895</td>\n",
       "      <td>153900059</td>\n",
       "      <td>1000.0</td>\n",
       "      <td>+</td>\n",
       "      <td>.</td>\n",
       "      <td>gene_id \"mir-8114\"; transcript_id \"C2C12.6233....</td>\n",
       "    </tr>\n",
       "    <tr>\n",
       "      <th>3</th>\n",
       "      <td>1</td>\n",
       "      <td>StringTie</td>\n",
       "      <td>exon</td>\n",
       "      <td>153899908</td>\n",
       "      <td>153900059</td>\n",
       "      <td>1000.0</td>\n",
       "      <td>+</td>\n",
       "      <td>.</td>\n",
       "      <td>gene_id \"mir-8114\"; transcript_id \"Hepa1-6.125...</td>\n",
       "    </tr>\n",
       "    <tr>\n",
       "      <th>4</th>\n",
       "      <td>1</td>\n",
       "      <td>StringTie</td>\n",
       "      <td>exon</td>\n",
       "      <td>153899911</td>\n",
       "      <td>153900059</td>\n",
       "      <td>1000.0</td>\n",
       "      <td>+</td>\n",
       "      <td>.</td>\n",
       "      <td>gene_id \"mir-8114\"; transcript_id \"Neuro2a.760...</td>\n",
       "    </tr>\n",
       "    <tr>\n",
       "      <th>5</th>\n",
       "      <td>1</td>\n",
       "      <td>StringTie</td>\n",
       "      <td>exon</td>\n",
       "      <td>153899917</td>\n",
       "      <td>153900059</td>\n",
       "      <td>1000.0</td>\n",
       "      <td>+</td>\n",
       "      <td>.</td>\n",
       "      <td>gene_id \"mir-8114\"; transcript_id \"E14tg2a.132...</td>\n",
       "    </tr>\n",
       "    <tr>\n",
       "      <th>6</th>\n",
       "      <td>1</td>\n",
       "      <td>StringTie</td>\n",
       "      <td>exon</td>\n",
       "      <td>153899932</td>\n",
       "      <td>153900059</td>\n",
       "      <td>1000.0</td>\n",
       "      <td>+</td>\n",
       "      <td>.</td>\n",
       "      <td>gene_id \"mir-8114\"; transcript_id \"MEF.6800.1\"...</td>\n",
       "    </tr>\n",
       "    <tr>\n",
       "      <th>7</th>\n",
       "      <td>1</td>\n",
       "      <td>StringTie</td>\n",
       "      <td>exon</td>\n",
       "      <td>153899944</td>\n",
       "      <td>153900059</td>\n",
       "      <td>1000.0</td>\n",
       "      <td>+</td>\n",
       "      <td>.</td>\n",
       "      <td>gene_id \"mir-8114\"; transcript_id \"CT26.7884.1...</td>\n",
       "    </tr>\n",
       "    <tr>\n",
       "      <th>8</th>\n",
       "      <td>1</td>\n",
       "      <td>StringTie</td>\n",
       "      <td>exon</td>\n",
       "      <td>162217674</td>\n",
       "      <td>162221207</td>\n",
       "      <td>1000.0</td>\n",
       "      <td>+</td>\n",
       "      <td>.</td>\n",
       "      <td>gene_id \"mir-199a-2\"; transcript_id \"CT26.8497...</td>\n",
       "    </tr>\n",
       "    <tr>\n",
       "      <th>9</th>\n",
       "      <td>1</td>\n",
       "      <td>StringTie</td>\n",
       "      <td>exon</td>\n",
       "      <td>162217674</td>\n",
       "      <td>162223781</td>\n",
       "      <td>1000.0</td>\n",
       "      <td>+</td>\n",
       "      <td>.</td>\n",
       "      <td>gene_id \"mir-199a-2\"; transcript_id \"MEF.7321....</td>\n",
       "    </tr>\n",
       "  </tbody>\n",
       "</table>\n",
       "</div>"
      ],
      "text/plain": [
       "   0          1     2          3          4       5  6  7  \\\n",
       "0  1  StringTie  exon  133726457  133726563  1000.0  -  .   \n",
       "1  1  StringTie  exon  151442205  151442710  1000.0  +  .   \n",
       "2  1  StringTie  exon  153899895  153900059  1000.0  +  .   \n",
       "3  1  StringTie  exon  153899908  153900059  1000.0  +  .   \n",
       "4  1  StringTie  exon  153899911  153900059  1000.0  +  .   \n",
       "5  1  StringTie  exon  153899917  153900059  1000.0  +  .   \n",
       "6  1  StringTie  exon  153899932  153900059  1000.0  +  .   \n",
       "7  1  StringTie  exon  153899944  153900059  1000.0  +  .   \n",
       "8  1  StringTie  exon  162217674  162221207  1000.0  +  .   \n",
       "9  1  StringTie  exon  162217674  162223781  1000.0  +  .   \n",
       "\n",
       "                                                   8  \n",
       "0  gene_id \"mir-6903\"; transcript_id \"C2C12.5406....  \n",
       "1  gene_id \"mir-7682\"; transcript_id \"CT26.7616.2...  \n",
       "2  gene_id \"mir-8114\"; transcript_id \"C2C12.6233....  \n",
       "3  gene_id \"mir-8114\"; transcript_id \"Hepa1-6.125...  \n",
       "4  gene_id \"mir-8114\"; transcript_id \"Neuro2a.760...  \n",
       "5  gene_id \"mir-8114\"; transcript_id \"E14tg2a.132...  \n",
       "6  gene_id \"mir-8114\"; transcript_id \"MEF.6800.1\"...  \n",
       "7  gene_id \"mir-8114\"; transcript_id \"CT26.7884.1...  \n",
       "8  gene_id \"mir-199a-2\"; transcript_id \"CT26.8497...  \n",
       "9  gene_id \"mir-199a-2\"; transcript_id \"MEF.7321....  "
      ]
     },
     "execution_count": 3,
     "metadata": {},
     "output_type": "execute_result"
    }
   ],
   "source": [
    "#pd.set_option('display.max_rows', None)\n",
    "# Check 10 rows first\n",
    "df.iloc[0:10,]"
   ]
  },
  {
   "cell_type": "code",
   "execution_count": 5,
   "metadata": {},
   "outputs": [
    {
     "data": {
      "text/plain": [
       "(1172, 9)"
      ]
     },
     "execution_count": 5,
     "metadata": {},
     "output_type": "execute_result"
    }
   ],
   "source": [
    "df.shape\n"
   ]
  },
  {
   "cell_type": "code",
   "execution_count": 22,
   "metadata": {},
   "outputs": [
    {
     "data": {
      "text/plain": [
       "0       gene_id \"mir-6903\"; transcript_id \"C2C12.5406....\n",
       "1       gene_id \"mir-7682\"; transcript_id \"CT26.7616.2...\n",
       "2       gene_id \"mir-8114\"; transcript_id \"C2C12.6233....\n",
       "3       gene_id \"mir-8114\"; transcript_id \"Hepa1-6.125...\n",
       "4       gene_id \"mir-8114\"; transcript_id \"Neuro2a.760...\n",
       "                              ...                        \n",
       "1167    gene_id \"mir-7673\"; transcript_id \"C2C12.13046...\n",
       "1168    gene_id \"mir-7673\"; transcript_id \"CT26.173737...\n",
       "1169    gene_id \"mir-7673\"; transcript_id \"Neuro2a.174...\n",
       "1170    gene_id \"mir-7673\"; transcript_id \"CT26.173737...\n",
       "1171    gene_id \"mir-7673\"; transcript_id \"E14tg2a.259...\n",
       "Name: 8, Length: 1172, dtype: object"
      ]
     },
     "execution_count": 22,
     "metadata": {},
     "output_type": "execute_result"
    }
   ],
   "source": [
    "df.iloc[:,8]"
   ]
  },
  {
   "cell_type": "code",
   "execution_count": 46,
   "metadata": {},
   "outputs": [],
   "source": [
    "transcript = []\n",
    "for i in range(0,1172):\n",
    "    transcript.append(re.findall(r\"(Neuro2a.\\w+.\\w+|C2C12.\\w+.\\w+|CT26.\\w+.\\w+|Hepa1-6.\\w+.\\w+|E14tg2a.\\w+.\\w+|MEF.\\w+.\\w+)\", df.iloc[:,8][i]))"
   ]
  },
  {
   "cell_type": "code",
   "execution_count": 48,
   "metadata": {},
   "outputs": [],
   "source": [
    "def checkIfDuplicates_3(listOfElems):\n",
    "    ''' Check if given list contains any duplicates '''    \n",
    "    for elem in listOfElems:\n",
    "        if listOfElems.count(elem) > 1:\n",
    "            return True\n",
    "    return False"
   ]
  },
  {
   "cell_type": "code",
   "execution_count": 49,
   "metadata": {},
   "outputs": [
    {
     "name": "stdout",
     "output_type": "stream",
     "text": [
      "Yes, list contains duplicates\n"
     ]
    }
   ],
   "source": [
    "result = checkIfDuplicates_3(transcript)\n",
    " \n",
    "if result:\n",
    "    print('Yes, list contains duplicates')\n",
    "else:\n",
    "    print('No duplicates found in list') "
   ]
  },
  {
   "cell_type": "code",
   "execution_count": 53,
   "metadata": {},
   "outputs": [],
   "source": [
    "transcript_flat_list = []\n",
    "for sublist in transcript:\n",
    "    for item in sublist:\n",
    "        transcript_flat_list.append(item)"
   ]
  },
  {
   "cell_type": "code",
   "execution_count": 51,
   "metadata": {},
   "outputs": [],
   "source": [
    "def getDuplicatesWithCount(listOfElems):\n",
    "    ''' Get frequency count of duplicate elements in the given list '''\n",
    "    dictOfElems = dict()\n",
    "    # Iterate over each element in list\n",
    "    for elem in listOfElems:\n",
    "        # If element exists in dict then increment its value else add it in dict\n",
    "        if elem in dictOfElems:\n",
    "            dictOfElems[elem] += 1\n",
    "        else:\n",
    "            dictOfElems[elem] = 1    \n",
    " \n",
    "    # Filter key-value pairs in dictionary. Keep pairs whose value is greater than 1 i.e. only duplicate elements from list.\n",
    "    dictOfElems = { key:value for key, value in dictOfElems.items() if value > 1}\n",
    "    # Returns a dict of duplicate elements and thier frequency count\n",
    "    return dictOfElems"
   ]
  },
  {
   "cell_type": "code",
   "execution_count": 54,
   "metadata": {},
   "outputs": [
    {
     "name": "stdout",
     "output_type": "stream",
     "text": [
      "C2C12.19402.6  ::  2\n",
      "E14tg2a.56939.6  ::  4\n",
      "CT26.39140.3  ::  2\n",
      "E14tg2a.92827.6  ::  2\n",
      "C2C12.67123.1  ::  2\n",
      "C2C12.100547.8  ::  2\n",
      "E14tg2a.211117.7  ::  2\n",
      "Neuro2a.145805.23  ::  2\n",
      "Neuro2a.145805.16  ::  3\n",
      "C2C12.118418.3  ::  2\n",
      "C2C12.130072.1  ::  2\n"
     ]
    }
   ],
   "source": [
    "dictOfElems = getDuplicatesWithCount(transcript_flat_list)     \n",
    " \n",
    "for key, value in dictOfElems.items():\n",
    "        print(key , ' :: ', value)"
   ]
  },
  {
   "cell_type": "code",
   "execution_count": 55,
   "metadata": {},
   "outputs": [
    {
     "data": {
      "text/plain": [
       "{'C2C12.19402.6': 2,\n",
       " 'E14tg2a.56939.6': 4,\n",
       " 'CT26.39140.3': 2,\n",
       " 'E14tg2a.92827.6': 2,\n",
       " 'C2C12.67123.1': 2,\n",
       " 'C2C12.100547.8': 2,\n",
       " 'E14tg2a.211117.7': 2,\n",
       " 'Neuro2a.145805.23': 2,\n",
       " 'Neuro2a.145805.16': 3,\n",
       " 'C2C12.118418.3': 2,\n",
       " 'C2C12.130072.1': 2}"
      ]
     },
     "execution_count": 55,
     "metadata": {},
     "output_type": "execute_result"
    }
   ],
   "source": [
    "dictOfElems"
   ]
  }
 ],
 "metadata": {
  "kernelspec": {
   "display_name": "Python 3",
   "language": "python",
   "name": "python3"
  },
  "language_info": {
   "codemirror_mode": {
    "name": "ipython",
    "version": 3
   },
   "file_extension": ".py",
   "mimetype": "text/x-python",
   "name": "python",
   "nbconvert_exporter": "python",
   "pygments_lexer": "ipython3",
   "version": "3.6.9"
  }
 },
 "nbformat": 4,
 "nbformat_minor": 2
}
