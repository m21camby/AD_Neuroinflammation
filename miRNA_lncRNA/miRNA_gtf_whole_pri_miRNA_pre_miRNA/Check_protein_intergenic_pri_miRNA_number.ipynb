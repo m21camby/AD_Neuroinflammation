{
 "cells": [
  {
   "cell_type": "markdown",
   "metadata": {},
   "source": [
    "This file is for checking the number of miRNAs and intergenic miRNAs"
   ]
  },
  {
   "cell_type": "code",
   "execution_count": 97,
   "metadata": {},
   "outputs": [],
   "source": [
    "import pandas as pd\n",
    "import re\n",
    "import numpy as np "
   ]
  },
  {
   "cell_type": "code",
   "execution_count": 2,
   "metadata": {},
   "outputs": [],
   "source": [
    "df = pd.read_csv(\"/data/rajewsky/home/skim/Microglia_Heppner/201912_10X_9sets/miRNA_lncRNA/miRNA_gtf_whole_pri_miRNA_pre_miRNA/personalized_pri_miRNA_chr_removed_unique_remove_duplicated.gtf\", header=None, sep = \"\\t\")\n",
    "                 \n",
    "    "
   ]
  },
  {
   "cell_type": "code",
   "execution_count": 83,
   "metadata": {},
   "outputs": [
    {
     "data": {
      "text/plain": [
       "0       gene_id \"mir-6903\"; transcript_id \"C2C12.5406....\n",
       "1       gene_id \"mir-7682\"; transcript_id \"CT26.7616.2...\n",
       "2       gene_id \"mir-8114\"; transcript_id \"C2C12.6233....\n",
       "3       gene_id \"mir-8114\"; transcript_id \"Hepa1-6.125...\n",
       "4       gene_id \"mir-8114\"; transcript_id \"Neuro2a.760...\n",
       "                              ...                        \n",
       "1143    gene_id \"mir-7673\"; transcript_id \"C2C12.13046...\n",
       "1144    gene_id \"mir-7673\"; transcript_id \"CT26.173737...\n",
       "1145    gene_id \"mir-7673\"; transcript_id \"Neuro2a.174...\n",
       "1146    gene_id \"mir-7673\"; transcript_id \"CT26.173737...\n",
       "1147    gene_id \"mir-7673\"; transcript_id \"E14tg2a.259...\n",
       "Name: 8, Length: 1148, dtype: object"
      ]
     },
     "execution_count": 83,
     "metadata": {},
     "output_type": "execute_result"
    }
   ],
   "source": [
    "df.iloc[:,8]"
   ]
  },
  {
   "cell_type": "code",
   "execution_count": 43,
   "metadata": {},
   "outputs": [
    {
     "data": {
      "text/plain": [
       "['gene_id \"']"
      ]
     },
     "execution_count": 43,
     "metadata": {},
     "output_type": "execute_result"
    }
   ],
   "source": [
    "re.findall(r'gene_id \\\"', df.iloc[:,8][0])"
   ]
  },
  {
   "cell_type": "code",
   "execution_count": 87,
   "metadata": {},
   "outputs": [],
   "source": [
    "gene_id = []\n",
    "\n",
    "for i in range(0,1148):\n",
    "    # extract until ;\n",
    "    gene_id_1st = re.match(r'[^;]+', df.iloc[:,8][i])\n",
    "    # remove gene_id text\n",
    "    gene_id_1st = gene_id_1st.group()\n",
    "    gene_id_2nd = re.sub(r'gene_id \\\"', \" \", gene_id_1st)\n",
    "    # remove last double quotes\n",
    "    gene_id_3rd = re.sub(r'\\\"', \" \", gene_id_2nd)\n",
    "    # remove white space\n",
    "    gene_id_4th = re.sub(r' ', \"\", gene_id_3rd)\n",
    "    gene_id.append(gene_id_4th)"
   ]
  },
  {
   "cell_type": "code",
   "execution_count": 108,
   "metadata": {},
   "outputs": [],
   "source": [
    "def unique(list1): \n",
    "    x = np.array(list1) \n",
    "    x2 = np.unique(x)\n",
    "    return(x2) "
   ]
  },
  {
   "cell_type": "code",
   "execution_count": 109,
   "metadata": {},
   "outputs": [],
   "source": [
    "gene_id_unique = unique(gene_id)"
   ]
  },
  {
   "cell_type": "code",
   "execution_count": 110,
   "metadata": {},
   "outputs": [
    {
     "data": {
      "text/plain": [
       "378"
      ]
     },
     "execution_count": 110,
     "metadata": {},
     "output_type": "execute_result"
    }
   ],
   "source": [
    "len(gene_id_unique)"
   ]
  },
  {
   "cell_type": "code",
   "execution_count": 112,
   "metadata": {},
   "outputs": [],
   "source": [
    "pd.DataFrame(gene_id_unique).to_csv(\"gene_id_unique_list.csv\")"
   ]
  },
  {
   "cell_type": "markdown",
   "metadata": {},
   "source": [
    "Extract only protein coding list"
   ]
  },
  {
   "cell_type": "code",
   "execution_count": 114,
   "metadata": {},
   "outputs": [],
   "source": [
    "df2 = pd.read_csv(\"/data/rajewsky/home/skim/Microglia_Heppner/201912_10X_9sets/miRNA_lncRNA/miRNA_gtf_whole_pri_miRNA_pre_miRNA/putative_protein_coding_pri_miRNA.txt\", header=None, sep = \"\\t\")\n",
    "                 \n",
    "    "
   ]
  },
  {
   "cell_type": "code",
   "execution_count": 115,
   "metadata": {},
   "outputs": [
    {
     "data": {
      "text/html": [
       "<div>\n",
       "<style scoped>\n",
       "    .dataframe tbody tr th:only-of-type {\n",
       "        vertical-align: middle;\n",
       "    }\n",
       "\n",
       "    .dataframe tbody tr th {\n",
       "        vertical-align: top;\n",
       "    }\n",
       "\n",
       "    .dataframe thead th {\n",
       "        text-align: right;\n",
       "    }\n",
       "</style>\n",
       "<table border=\"1\" class=\"dataframe\">\n",
       "  <thead>\n",
       "    <tr style=\"text-align: right;\">\n",
       "      <th></th>\n",
       "      <th>0</th>\n",
       "      <th>1</th>\n",
       "      <th>2</th>\n",
       "      <th>3</th>\n",
       "      <th>4</th>\n",
       "      <th>5</th>\n",
       "      <th>6</th>\n",
       "      <th>7</th>\n",
       "      <th>8</th>\n",
       "    </tr>\n",
       "  </thead>\n",
       "  <tbody>\n",
       "    <tr>\n",
       "      <th>0</th>\n",
       "      <td>1</td>\n",
       "      <td>StringTie</td>\n",
       "      <td>exon</td>\n",
       "      <td>133726457</td>\n",
       "      <td>133726563</td>\n",
       "      <td>1000.0</td>\n",
       "      <td>-</td>\n",
       "      <td>.</td>\n",
       "      <td>gene_id \"mir-6903\"; transcript_id \"C2C12.5406....</td>\n",
       "    </tr>\n",
       "    <tr>\n",
       "      <th>1</th>\n",
       "      <td>1</td>\n",
       "      <td>StringTie</td>\n",
       "      <td>exon</td>\n",
       "      <td>151442205</td>\n",
       "      <td>151442710</td>\n",
       "      <td>1000.0</td>\n",
       "      <td>+</td>\n",
       "      <td>.</td>\n",
       "      <td>gene_id \"mir-7682\"; transcript_id \"CT26.7616.2...</td>\n",
       "    </tr>\n",
       "    <tr>\n",
       "      <th>2</th>\n",
       "      <td>1</td>\n",
       "      <td>StringTie</td>\n",
       "      <td>exon</td>\n",
       "      <td>153899895</td>\n",
       "      <td>153900059</td>\n",
       "      <td>1000.0</td>\n",
       "      <td>+</td>\n",
       "      <td>.</td>\n",
       "      <td>gene_id \"mir-8114\"; transcript_id \"C2C12.6233....</td>\n",
       "    </tr>\n",
       "    <tr>\n",
       "      <th>3</th>\n",
       "      <td>1</td>\n",
       "      <td>StringTie</td>\n",
       "      <td>exon</td>\n",
       "      <td>153899895</td>\n",
       "      <td>153900059</td>\n",
       "      <td>1000.0</td>\n",
       "      <td>+</td>\n",
       "      <td>.</td>\n",
       "      <td>gene_id \"mir-8114\"; transcript_id \"C2C12.6233....</td>\n",
       "    </tr>\n",
       "    <tr>\n",
       "      <th>4</th>\n",
       "      <td>1</td>\n",
       "      <td>StringTie</td>\n",
       "      <td>exon</td>\n",
       "      <td>153899908</td>\n",
       "      <td>153900059</td>\n",
       "      <td>1000.0</td>\n",
       "      <td>+</td>\n",
       "      <td>.</td>\n",
       "      <td>gene_id \"mir-8114\"; transcript_id \"Hepa1-6.125...</td>\n",
       "    </tr>\n",
       "    <tr>\n",
       "      <th>...</th>\n",
       "      <td>...</td>\n",
       "      <td>...</td>\n",
       "      <td>...</td>\n",
       "      <td>...</td>\n",
       "      <td>...</td>\n",
       "      <td>...</td>\n",
       "      <td>...</td>\n",
       "      <td>...</td>\n",
       "      <td>...</td>\n",
       "    </tr>\n",
       "    <tr>\n",
       "      <th>993</th>\n",
       "      <td>X</td>\n",
       "      <td>StringTie</td>\n",
       "      <td>exon</td>\n",
       "      <td>94272356</td>\n",
       "      <td>94274743</td>\n",
       "      <td>1000.0</td>\n",
       "      <td>+</td>\n",
       "      <td>.</td>\n",
       "      <td>gene_id \"mir-7673\"; transcript_id \"C2C12.13046...</td>\n",
       "    </tr>\n",
       "    <tr>\n",
       "      <th>994</th>\n",
       "      <td>X</td>\n",
       "      <td>StringTie</td>\n",
       "      <td>exon</td>\n",
       "      <td>94272356</td>\n",
       "      <td>94274755</td>\n",
       "      <td>1000.0</td>\n",
       "      <td>+</td>\n",
       "      <td>.</td>\n",
       "      <td>gene_id \"mir-7673\"; transcript_id \"CT26.173737...</td>\n",
       "    </tr>\n",
       "    <tr>\n",
       "      <th>995</th>\n",
       "      <td>X</td>\n",
       "      <td>StringTie</td>\n",
       "      <td>exon</td>\n",
       "      <td>94272356</td>\n",
       "      <td>94277690</td>\n",
       "      <td>1000.0</td>\n",
       "      <td>+</td>\n",
       "      <td>.</td>\n",
       "      <td>gene_id \"mir-7673\"; transcript_id \"Neuro2a.174...</td>\n",
       "    </tr>\n",
       "    <tr>\n",
       "      <th>996</th>\n",
       "      <td>X</td>\n",
       "      <td>StringTie</td>\n",
       "      <td>exon</td>\n",
       "      <td>94272648</td>\n",
       "      <td>94274755</td>\n",
       "      <td>1000.0</td>\n",
       "      <td>+</td>\n",
       "      <td>.</td>\n",
       "      <td>gene_id \"mir-7673\"; transcript_id \"CT26.173737...</td>\n",
       "    </tr>\n",
       "    <tr>\n",
       "      <th>997</th>\n",
       "      <td>X</td>\n",
       "      <td>StringTie</td>\n",
       "      <td>exon</td>\n",
       "      <td>94274550</td>\n",
       "      <td>94274755</td>\n",
       "      <td>1000.0</td>\n",
       "      <td>+</td>\n",
       "      <td>.</td>\n",
       "      <td>gene_id \"mir-7673\"; transcript_id \"E14tg2a.259...</td>\n",
       "    </tr>\n",
       "  </tbody>\n",
       "</table>\n",
       "<p>998 rows × 9 columns</p>\n",
       "</div>"
      ],
      "text/plain": [
       "     0          1     2          3          4       5  6  7  \\\n",
       "0    1  StringTie  exon  133726457  133726563  1000.0  -  .   \n",
       "1    1  StringTie  exon  151442205  151442710  1000.0  +  .   \n",
       "2    1  StringTie  exon  153899895  153900059  1000.0  +  .   \n",
       "3    1  StringTie  exon  153899895  153900059  1000.0  +  .   \n",
       "4    1  StringTie  exon  153899908  153900059  1000.0  +  .   \n",
       "..  ..        ...   ...        ...        ...     ... .. ..   \n",
       "993  X  StringTie  exon   94272356   94274743  1000.0  +  .   \n",
       "994  X  StringTie  exon   94272356   94274755  1000.0  +  .   \n",
       "995  X  StringTie  exon   94272356   94277690  1000.0  +  .   \n",
       "996  X  StringTie  exon   94272648   94274755  1000.0  +  .   \n",
       "997  X  StringTie  exon   94274550   94274755  1000.0  +  .   \n",
       "\n",
       "                                                     8  \n",
       "0    gene_id \"mir-6903\"; transcript_id \"C2C12.5406....  \n",
       "1    gene_id \"mir-7682\"; transcript_id \"CT26.7616.2...  \n",
       "2    gene_id \"mir-8114\"; transcript_id \"C2C12.6233....  \n",
       "3    gene_id \"mir-8114\"; transcript_id \"C2C12.6233....  \n",
       "4    gene_id \"mir-8114\"; transcript_id \"Hepa1-6.125...  \n",
       "..                                                 ...  \n",
       "993  gene_id \"mir-7673\"; transcript_id \"C2C12.13046...  \n",
       "994  gene_id \"mir-7673\"; transcript_id \"CT26.173737...  \n",
       "995  gene_id \"mir-7673\"; transcript_id \"Neuro2a.174...  \n",
       "996  gene_id \"mir-7673\"; transcript_id \"CT26.173737...  \n",
       "997  gene_id \"mir-7673\"; transcript_id \"E14tg2a.259...  \n",
       "\n",
       "[998 rows x 9 columns]"
      ]
     },
     "execution_count": 115,
     "metadata": {},
     "output_type": "execute_result"
    }
   ],
   "source": [
    "df2"
   ]
  },
  {
   "cell_type": "code",
   "execution_count": 118,
   "metadata": {},
   "outputs": [],
   "source": [
    "gene_id_protein_coding = []\n",
    "\n",
    "for i in range(0,998):\n",
    "    # extract until ;\n",
    "    gene_id_1st = re.match(r'[^;]+', df2.iloc[:,8][i])\n",
    "    # remove gene_id text\n",
    "    gene_id_1st = gene_id_1st.group()\n",
    "    gene_id_2nd = re.sub(r'gene_id \\\"', \" \", gene_id_1st)\n",
    "    # remove last double quotes\n",
    "    gene_id_3rd = re.sub(r'\\\"', \" \", gene_id_2nd)\n",
    "    # remove white space\n",
    "    gene_id_4th = re.sub(r' ', \"\", gene_id_3rd)\n",
    "    gene_id_protein_coding.append(gene_id_4th)"
   ]
  },
  {
   "cell_type": "code",
   "execution_count": 119,
   "metadata": {},
   "outputs": [],
   "source": [
    "gene_id_protein_coding_unique = unique(gene_id_protein_coding)"
   ]
  },
  {
   "cell_type": "code",
   "execution_count": 120,
   "metadata": {},
   "outputs": [
    {
     "data": {
      "text/plain": [
       "272"
      ]
     },
     "execution_count": 120,
     "metadata": {},
     "output_type": "execute_result"
    }
   ],
   "source": [
    "len(gene_id_protein_coding_unique)"
   ]
  },
  {
   "cell_type": "code",
   "execution_count": 121,
   "metadata": {},
   "outputs": [],
   "source": [
    "pd.DataFrame(gene_id_protein_coding_unique).to_csv(\"gene_id_protein_coding_unique_list.csv\")"
   ]
  },
  {
   "cell_type": "code",
   "execution_count": null,
   "metadata": {},
   "outputs": [],
   "source": []
  },
  {
   "cell_type": "code",
   "execution_count": null,
   "metadata": {},
   "outputs": [],
   "source": []
  }
 ],
 "metadata": {
  "kernelspec": {
   "display_name": "Python 3",
   "language": "python",
   "name": "python3"
  },
  "language_info": {
   "codemirror_mode": {
    "name": "ipython",
    "version": 3
   },
   "file_extension": ".py",
   "mimetype": "text/x-python",
   "name": "python",
   "nbconvert_exporter": "python",
   "pygments_lexer": "ipython3",
   "version": "3.6.9"
  }
 },
 "nbformat": 4,
 "nbformat_minor": 2
}
