{
 "cells": [
  {
   "cell_type": "markdown",
   "metadata": {},
   "source": [
    "### Convert loom file to DataFrame\n",
    "This file is for converting loom files downloaded from http://mousebrain.org/ to DataFrame for easy work in downstream analysis. In here, I only downloaded hippocampus data. This file is converted for automated annotation analysis.  "
   ]
  },
  {
   "cell_type": "code",
   "execution_count": 1,
   "metadata": {},
   "outputs": [],
   "source": [
    "import loompy\n",
    "import pandas as pd\n",
    "import numpy as np\n",
    "import re"
   ]
  },
  {
   "cell_type": "code",
   "execution_count": 78,
   "metadata": {},
   "outputs": [],
   "source": [
    "# File loading\n",
    "# raw file\n",
    "ds = loompy.connect(\"l1_hippocampus.loom\")\n",
    "\n",
    "# aggregate file\n",
    "ds_agg = loompy.connect(\"l1_hippocampus.agg.loom\")"
   ]
  },
  {
   "cell_type": "markdown",
   "metadata": {},
   "source": [
    "### raw file"
   ]
  },
  {
   "cell_type": "code",
   "execution_count": 170,
   "metadata": {},
   "outputs": [
    {
     "ename": "AttributeError",
     "evalue": "'<class 'loompy.attribute_manager.AttributeManager'>' object has no attribute 'CellID'",
     "output_type": "error",
     "traceback": [
      "\u001b[0;31m---------------------------------------------------------------------------\u001b[0m",
      "\u001b[0;31mKeyError\u001b[0m                                  Traceback (most recent call last)",
      "\u001b[0;32m~/anaconda3/envs/myenv/lib/python3.7/site-packages/loompy/attribute_manager.py\u001b[0m in \u001b[0;36m__getattr__\u001b[0;34m(self, name)\u001b[0m\n\u001b[1;32m    112\u001b[0m                 \u001b[0;32mtry\u001b[0m\u001b[0;34m:\u001b[0m\u001b[0;34m\u001b[0m\u001b[0;34m\u001b[0m\u001b[0m\n\u001b[0;32m--> 113\u001b[0;31m                         \u001b[0mvals\u001b[0m \u001b[0;34m=\u001b[0m \u001b[0mself\u001b[0m\u001b[0;34m.\u001b[0m\u001b[0m__dict__\u001b[0m\u001b[0;34m[\u001b[0m\u001b[0;34m\"storage\"\u001b[0m\u001b[0;34m]\u001b[0m\u001b[0;34m[\u001b[0m\u001b[0mname\u001b[0m\u001b[0;34m]\u001b[0m\u001b[0;34m\u001b[0m\u001b[0;34m\u001b[0m\u001b[0m\n\u001b[0m\u001b[1;32m    114\u001b[0m                         \u001b[0;32mif\u001b[0m \u001b[0mvals\u001b[0m \u001b[0;32mis\u001b[0m \u001b[0;32mNone\u001b[0m\u001b[0;34m:\u001b[0m\u001b[0;34m\u001b[0m\u001b[0;34m\u001b[0m\u001b[0m\n",
      "\u001b[0;31mKeyError\u001b[0m: 'CellID'",
      "\nDuring handling of the above exception, another exception occurred:\n",
      "\u001b[0;31mAttributeError\u001b[0m                            Traceback (most recent call last)",
      "\u001b[0;32m<ipython-input-170-b35972f18d02>\u001b[0m in \u001b[0;36m<module>\u001b[0;34m\u001b[0m\n\u001b[0;32m----> 1\u001b[0;31m \u001b[0mlen\u001b[0m\u001b[0;34m(\u001b[0m\u001b[0mds\u001b[0m\u001b[0;34m.\u001b[0m\u001b[0mca\u001b[0m\u001b[0;34m.\u001b[0m\u001b[0mCellID\u001b[0m\u001b[0;34m)\u001b[0m\u001b[0;34m\u001b[0m\u001b[0;34m\u001b[0m\u001b[0m\n\u001b[0m",
      "\u001b[0;32m~/anaconda3/envs/myenv/lib/python3.7/site-packages/loompy/attribute_manager.py\u001b[0m in \u001b[0;36m__getattr__\u001b[0;34m(self, name)\u001b[0m\n\u001b[1;32m    119\u001b[0m                         \u001b[0;32mreturn\u001b[0m \u001b[0mvals\u001b[0m\u001b[0;34m\u001b[0m\u001b[0;34m\u001b[0m\u001b[0m\n\u001b[1;32m    120\u001b[0m                 \u001b[0;32mexcept\u001b[0m \u001b[0mKeyError\u001b[0m\u001b[0;34m:\u001b[0m\u001b[0;34m\u001b[0m\u001b[0;34m\u001b[0m\u001b[0m\n\u001b[0;32m--> 121\u001b[0;31m                         \u001b[0;32mraise\u001b[0m \u001b[0mAttributeError\u001b[0m\u001b[0;34m(\u001b[0m\u001b[0;34mf\"'{type(self)}' object has no attribute '{name}'\"\u001b[0m\u001b[0;34m)\u001b[0m\u001b[0;34m\u001b[0m\u001b[0;34m\u001b[0m\u001b[0m\n\u001b[0m\u001b[1;32m    122\u001b[0m \u001b[0;34m\u001b[0m\u001b[0m\n\u001b[1;32m    123\u001b[0m         \u001b[0;32mdef\u001b[0m \u001b[0m__setitem__\u001b[0m\u001b[0;34m(\u001b[0m\u001b[0mself\u001b[0m\u001b[0;34m,\u001b[0m \u001b[0mname\u001b[0m\u001b[0;34m:\u001b[0m \u001b[0mstr\u001b[0m\u001b[0;34m,\u001b[0m \u001b[0mval\u001b[0m\u001b[0;34m:\u001b[0m \u001b[0mnp\u001b[0m\u001b[0;34m.\u001b[0m\u001b[0mndarray\u001b[0m\u001b[0;34m)\u001b[0m \u001b[0;34m->\u001b[0m \u001b[0;32mNone\u001b[0m\u001b[0;34m:\u001b[0m\u001b[0;34m\u001b[0m\u001b[0;34m\u001b[0m\u001b[0m\n",
      "\u001b[0;31mAttributeError\u001b[0m: '<class 'loompy.attribute_manager.AttributeManager'>' object has no attribute 'CellID'"
     ]
    }
   ],
   "source": [
    "# Check the number of CellID\n",
    "len(ds.ca.CellID)"
   ]
  },
  {
   "cell_type": "code",
   "execution_count": 34,
   "metadata": {},
   "outputs": [
    {
     "data": {
      "text/plain": [
       "27998"
      ]
     },
     "execution_count": 34,
     "metadata": {},
     "output_type": "execute_result"
    }
   ],
   "source": [
    "# Check the number of genes\n",
    "len(ds.ra.Gene)"
   ]
  },
  {
   "cell_type": "code",
   "execution_count": 37,
   "metadata": {},
   "outputs": [
    {
     "data": {
      "text/plain": [
       "array([[6., 5., 6., ..., 0., 0., 0.],\n",
       "       [1., 1., 1., ..., 0., 0., 0.],\n",
       "       [2., 2., 1., ..., 0., 0., 0.],\n",
       "       ...,\n",
       "       [0., 0., 0., ..., 0., 0., 0.],\n",
       "       [0., 0., 0., ..., 0., 0., 0.],\n",
       "       [0., 0., 0., ..., 0., 0., 0.]], dtype=float32)"
      ]
     },
     "execution_count": 37,
     "metadata": {},
     "output_type": "execute_result"
    }
   ],
   "source": [
    "# Check the counts\n",
    "ds[0:27998, 0:29519]"
   ]
  },
  {
   "cell_type": "code",
   "execution_count": 40,
   "metadata": {},
   "outputs": [],
   "source": [
    "# Create DataFrame\n",
    "ds.df = pd.DataFrame(data = ds[0:27998, 0:29519], index = ds.ra.Gene, columns= ds.ca.CellID)"
   ]
  },
  {
   "cell_type": "code",
   "execution_count": 43,
   "metadata": {},
   "outputs": [
    {
     "data": {
      "text/plain": [
       "(27998, 29519)"
      ]
     },
     "execution_count": 43,
     "metadata": {},
     "output_type": "execute_result"
    }
   ],
   "source": [
    "# Check shape\n",
    "ds.df.shape"
   ]
  },
  {
   "cell_type": "code",
   "execution_count": 42,
   "metadata": {},
   "outputs": [],
   "source": [
    "# Save DataFrame\n",
    "ds.df.to_csv(\"/home/skim/Documents/Heppner_Microglia/Automation/l1_hippocampus.txt\", sep= \"\\t\", header=True, index=True)"
   ]
  },
  {
   "cell_type": "code",
   "execution_count": 50,
   "metadata": {},
   "outputs": [
    {
     "name": "stderr",
     "output_type": "stream",
     "text": [
      "/home/skim/anaconda3/envs/myenv/lib/python3.7/site-packages/ipykernel_launcher.py:1: UserWarning: Pandas doesn't allow columns to be created via a new attribute name - see https://pandas.pydata.org/pandas-docs/stable/indexing.html#attribute-access\n",
      "  \"\"\"Entry point for launching an IPython kernel.\n"
     ]
    }
   ],
   "source": [
    "# create meta data\n",
    "ds.df.meta = pd.DataFrame({'ID': ds.ca.CellID, 'Cluster': ds.ca.Class})"
   ]
  },
  {
   "cell_type": "code",
   "execution_count": 52,
   "metadata": {},
   "outputs": [],
   "source": [
    "# Save meta data\n",
    "ds.df.meta.to_csv(\"/home/skim/Documents/Heppner_Microglia/Automation/l1_hippocampus_meta.txt\", sep= \"\\t\", header=True, index=True)"
   ]
  },
  {
   "cell_type": "markdown",
   "metadata": {},
   "source": [
    "### aggregate file"
   ]
  },
  {
   "cell_type": "code",
   "execution_count": 36,
   "metadata": {},
   "outputs": [],
   "source": [
    "Class = ds_agg.ca.Class "
   ]
  },
  {
   "cell_type": "code",
   "execution_count": 37,
   "metadata": {},
   "outputs": [],
   "source": [
    "AutoAnnotation = ds_agg.ca.AutoAnnotation"
   ]
  },
  {
   "cell_type": "code",
   "execution_count": 162,
   "metadata": {},
   "outputs": [],
   "source": [
    "MarkerGenes = ds_agg.ca.MarkerGenes"
   ]
  },
  {
   "cell_type": "code",
   "execution_count": 163,
   "metadata": {},
   "outputs": [
    {
     "data": {
      "text/plain": [
       "'Il23a Tmem163 Cnksr3 Adamts4 Gm15440 Fcnaos'"
      ]
     },
     "execution_count": 163,
     "metadata": {},
     "output_type": "execute_result"
    }
   ],
   "source": [
    "# Check marker genes\n",
    "MarkerGenes[1]"
   ]
  },
  {
   "cell_type": "code",
   "execution_count": 40,
   "metadata": {},
   "outputs": [],
   "source": [
    "### Combine two array (Class , AutoAnnotation)\n",
    "Class_AutoAnnotation = Class + AutoAnnotation"
   ]
  },
  {
   "cell_type": "code",
   "execution_count": 173,
   "metadata": {},
   "outputs": [
    {
     "data": {
      "text/plain": [
       "array(['Oligos@OL,COP', 'Oligos@OL,OLIG',\n",
       "       'Excluded@IEG,@OL,@VGLUT1,@XIN,DG-IGC,HC-CA1,HC-CA2,OLIG',\n",
       "       'Excluded@OL,@VGLUT1,DG-GC,OLIG',\n",
       "       'Oligos@NBL,@NIPC,@OL,@VGLUT1,DG-GC,HC-CA2,OLIG'], dtype=object)"
      ]
     },
     "execution_count": 173,
     "metadata": {},
     "output_type": "execute_result"
    }
   ],
   "source": [
    "# Check ID\n",
    "Class_AutoAnnotation[0:5]"
   ]
  },
  {
   "cell_type": "code",
   "execution_count": 10,
   "metadata": {},
   "outputs": [
    {
     "data": {
      "text/plain": [
       "27998"
      ]
     },
     "execution_count": 10,
     "metadata": {},
     "output_type": "execute_result"
    }
   ],
   "source": [
    "# Check length of genes\n",
    "len(ds.ra.Gene)"
   ]
  },
  {
   "cell_type": "code",
   "execution_count": 45,
   "metadata": {},
   "outputs": [],
   "source": [
    "# Create DataFrame\n",
    "ds_df = pd.DataFrame(data = ds[0:27998, 0:74], index = ds.ra.Gene, columns= Class_AutoAnnotation)"
   ]
  },
  {
   "cell_type": "code",
   "execution_count": 46,
   "metadata": {},
   "outputs": [
    {
     "data": {
      "text/plain": [
       "(27998, 74)"
      ]
     },
     "execution_count": 46,
     "metadata": {},
     "output_type": "execute_result"
    }
   ],
   "source": [
    "# Check DataFrame\n",
    "ds_df.shape"
   ]
  },
  {
   "cell_type": "code",
   "execution_count": 64,
   "metadata": {},
   "outputs": [
    {
     "data": {
      "text/plain": [
       "Index(['Oligos@OL,COP', 'Oligos@OL,OLIG',\n",
       "       'Excluded@IEG,@OL,@VGLUT1,@XIN,DG-IGC,HC-CA1,HC-CA2,OLIG',\n",
       "       'Excluded@OL,@VGLUT1,DG-GC,OLIG',\n",
       "       'Oligos@NBL,@NIPC,@OL,@VGLUT1,DG-GC,HC-CA2,OLIG', 'Oligos@OL,OLIG',\n",
       "       'Excluded@AEP,@OL,AC-NFB,OLIG', 'Excluded@BMono,@IEG,@OL,MGL,OLIG',\n",
       "       'Excluded@GABA,@IEG,@OL,CNC,HC-Cck-Cxcl14,HC-Vip-Calb2,OLIG',\n",
       "       'Excluded@GABA,@IEG,@OL,CB-MLI,CNC,DG-IGC,HC-Cacna2d1-Lhx6,HC-Sst-Npy,OLIG,Rgl2c',\n",
       "       'Neurons@GABA,DG-IGC,HC-Sst-Npy', 'Neurons@GABA,DG-IGC,HC-Sst-Npy',\n",
       "       'Neurons@GABA,CB-MLI,HC-Pvalb-Tac1,HC-Sst-Npy',\n",
       "       'Neurons@AEP,@GABA,@XIN,AC-NFB,CB-MLI,HC-Cacna2d1-Lhx6,HC-Sst-Npy,Rgl2',\n",
       "       'Neurons@VGLUT1', 'Neurons@GABA,HC-Cck-Cxcl14,HC-Vip-Calb2',\n",
       "       'Neurons@GABA,HC-Ntng1-Chrm2,HC-Sst-Npy,PERI',\n",
       "       'Neurons@GABA,HC-Cacna2d1-Ndnf,HC-Ntng1-Chrm2,HC-Sst-Npy',\n",
       "       'Neurons@GABA,HC-Cacna2d1-Ndnf,HC-Sst-Npy',\n",
       "       'Neurons@GABA,@POMC,HC-Sst-Npy', 'Neurons@GABA,HC-Sst-Npy',\n",
       "       'Neurons@GABA,@POMC,@VGLUT3,DG-IGC,HC-Sst-Npy',\n",
       "       'Neurons@GABA,@POMC,@VGLUT3,DG-IGC,HC-Sst-Npy', 'Neurons@GABA,DG-IGC',\n",
       "       'Neurons@GABA,DG-IGC,HC-Cck-Cxcl14,HC-Sst-Npy,HC-Vip-Calb2',\n",
       "       'Neurons@VGLUT1,DG-IGC,HC-CA3', 'Neurons@VGLUT1',\n",
       "       'Neurons@VGLUT1,DG-IGC,HC-CA1,HC-CA2', 'Neurons@VGLUT1,DG-IGC',\n",
       "       'Excluded@IEG,@VGLUT1,DG-IGC,HC-CA1,HC-CA2,VEC',\n",
       "       'Excluded@AEP,@VGLUT1,DG-IGC,HC-CA1,HC-CA2,HC-CA3',\n",
       "       'Excluded@BMono,@VGLUT1,DG-IGC,HC-CA1,HC-CA2,MGL',\n",
       "       'Immune@BMono,MGL,PVM', 'Immune@BMono,@IEG,MGL,OPC',\n",
       "       'Immune@BMono,@IEG,MGL', 'Immune@BMono,@VGLUT1,DG-GC,MGL',\n",
       "       'Immune@BMono,@IEG,@NBL,DG-GNB,DG-IGC,MGL,NblastM',\n",
       "       'Excluded@AEP,@BMono,AC-NFB,MGL', 'Excluded@AEP,@BMono,MGL',\n",
       "       'Astrocytes@AEP,@BMono,MGL', 'Astrocytes@AEP,AC-NFB',\n",
       "       'AstrocytesAC-NFB', 'Astrocytes@Pall,DG-RGL',\n",
       "       'Neurons@VGLUT1,DG-GC,HC-CA2', 'Excluded@AEP,@VGLUT1,DG-GC',\n",
       "       'Astrocytes@AEP,@NBL,DG-GNB,DG-IGC', 'Vascular@IEG,PERI',\n",
       "       'Ependymal@AEP,@IEG,EPN,OB-OEC',\n",
       "       'Neurons@CC,@IEG,@NBL,@NIPC,@Pall,DG-NIPC',\n",
       "       'Neurons@NBL,DG-GNB,NblastM', 'Neurons@NBL,DG-GNB,NblastM',\n",
       "       'Neurons@NBL,DG-GNB,NblastM', 'Neurons@VGLUT2,CRC', 'OligosOPC',\n",
       "       'Neurons@VGLUT1,DG-GC', 'Neurons@VGLUT1,DG-GC', 'NeuronsDG-GC',\n",
       "       'Neurons@VGLUT1', 'Neurons@VGLUT1', 'Neurons@VGLUT1,DG-GC',\n",
       "       'Neurons@VGLUT1,DG-GC', 'NeuronsDG-GC', 'NeuronsDG-GC',\n",
       "       'Neurons@NBL,@VGLUT1,DG-GC,DG-IGC,NblastM', 'Vascular@VGLUT1,DG-GC,VEC',\n",
       "       'Neurons@GNRH,@HCRT,@IEG,@NBL,@NIPC,@VGLUT1,@VGLUT2,@VGLUT3,HC-CA2',\n",
       "       'Excluded@AEP,AC-NFB,VEC', 'VascularVEC', 'VascularVEC',\n",
       "       'Vascular@IEG,VLMC', 'Vascular@IEG,VLMC', 'VascularERY,VEC',\n",
       "       'VascularERY,VEC', 'BloodERY'],\n",
       "      dtype='object')"
      ]
     },
     "execution_count": 64,
     "metadata": {},
     "output_type": "execute_result"
    }
   ],
   "source": [
    "# Filtered out ID containing Excluded \n",
    "ds_df_filtered = ds_df.filter(regex= 'Oligos|Neurons|Immune|Astrocytes|Ependymal|Vascular')"
   ]
  },
  {
   "cell_type": "code",
   "execution_count": 63,
   "metadata": {},
   "outputs": [
    {
     "data": {
      "text/plain": [
       "(27998, 60)"
      ]
     },
     "execution_count": 63,
     "metadata": {},
     "output_type": "execute_result"
    }
   ],
   "source": [
    "ds_df_filtered.shape"
   ]
  },
  {
   "cell_type": "code",
   "execution_count": 66,
   "metadata": {},
   "outputs": [],
   "source": [
    "# Save aggregated DataFrame\n",
    "ds_df_filtered.to_csv(\"/home/skim/Documents/Heppner_Microglia/Automation/l1_hippocampus_aggregate_DF.txt\", sep= \"\\t\", header=True, index=True)"
   ]
  },
  {
   "cell_type": "markdown",
   "metadata": {},
   "source": [
    "### marker genes"
   ]
  },
  {
   "cell_type": "code",
   "execution_count": 164,
   "metadata": {},
   "outputs": [
    {
     "data": {
      "text/plain": [
       "array(['Bmp4,Enpp6,Lims2,Bcas1,Bfsp2,Pak4',\n",
       "       'Il23a,Tmem163,Cnksr3,Adamts4,Gm15440,Fcnaos',\n",
       "       'Nov,Itgb4,Ermn,Arsg,Slain1,Myrf',\n",
       "       'Ugt8a,Ccnjl,Fa2h,Hapln2,S1pr5,Ttyh2',\n",
       "       'Gsn,Zpr1,Trim13,Ppp1r14a,Gjb1,Trim59',\n",
       "       'Mal,Adssl1,Ermn,Ppp1r14a,Mog,Nkx6-2',\n",
       "       'Ndrg1,Sdc4,Plekhh1,Gjc2,Tmem88b,Myrf',\n",
       "       'Lag3,Prim2,Laptm5,Tmem119,C1qb,Vav1',\n",
       "       'Opalin,Brinp3,Gab1,Ninj2,Pdlim2,Nipal4',\n",
       "       'Opalin,Coro6,Lpar1,Mag,Gamt,Erbb3',\n",
       "       'Chodl,Nos1,Sfrp1,Adgrg6,Tacr1,Npy',\n",
       "       'Sst,Ccna1,Gpx3,Crhbp,Lypd6,Rbp4',\n",
       "       'Pvalb,Tac1,Pthlh,Cox6a2,Tcap,Nek7',\n",
       "       '2900052N01Rik,1700019G17Rik,Adhfe1,Rorb,Phka1,Slc9a3r1',\n",
       "       'Lypd1,Id2,Gm8730,C1ql3,Icam5,Ramp1',\n",
       "       'Vip,Penk,Cbln2,Asic4,Tac2,Adra1b',\n",
       "       'Chrm2,Cyp26b1,Fst,Nell1,Rgs4,Rgs2',\n",
       "       'Ntng1,Tmem132c,Stk32b,Gucy1a3,Rgs8,Pdzrn4',\n",
       "       'Lamp5,Cplx3,Hapln1,Sv2c,Pnoc,Lhx6',\n",
       "       'Ndnf,Pde3a,Rgs12,Cxcl14,Igf1,Igfbp5',\n",
       "       'Col19a1,Gm16586,Rgs12,Trp53i11,Cpne5,Npas1',\n",
       "       'Syt6,Bmp3,Cadps2,Kctd12,Gng4,Adarb2',\n",
       "       'Slc17a8,Cryba2,Prok2,Kctd12,Frem1,Wnt5a',\n",
       "       '5330429C05Rik,Egln3,Krt73,Calcb,Htr2c,Adarb2',\n",
       "       'Htr3a,Olfm2,Gm8797,Yjefn3,Sncg,Npas1',\n",
       "       'Hs3st4,Lsm11,Nr4a3,Rcn3,Pvrl3,Jsrp1',\n",
       "       'Cpne7,Slc7a4,Cds1,Prkcsh,Lingo1,Adcy9',\n",
       "       'Spink8,4921539H07Rik,Lefty1,Neurod6,Rprml,Gm2115',\n",
       "       'Tshz2,Sv2b,Pde1a,Etv1,Fezf2,Ldb2',\n",
       "       'Ankrd63,Slco1a4,Sox17,Kdr,Cxcl12,Grap',\n",
       "       'Wfs1,Raver2,Pou3f1,Rasgrp1,Prkcg,Gm2115',\n",
       "       'Cx3cr1,Fibcd1,C1qa,Itgam,Hexb,C1qc',\n",
       "       'Pf4,Lyz2,Ms4a7,Cd209f,Ccl24,F13a1',\n",
       "       'Lhfpl3,Mpeg1,Laptm5,Fcrls,Irf8,Adap2os',\n",
       "       'P2ry12,Ccl4,Ctss,Tmem119,Trem2,C1qc',\n",
       "       'Cx3cr1,Tmem108,C1qa,Tmem119,Trem2,Bin2',\n",
       "       'Samsn1,Tyrobp,C1qa,Gpr34,Ccrl2,Fcer1g',\n",
       "       'Selplg,Pde3b,Ctss,Itgam,Ly86,Lpcat2',\n",
       "       'Csf1r,Lgi4,Laptm5,Fcgr3,P2ry13,C1qc',\n",
       "       'C4b,Gfap,Gm10561,Lrp4,Dio2,Hspb8',\n",
       "       'Aqp4,Agt,Mlc1,Acsbg1,Fam107a,Ntsr2',\n",
       "       'Id4,Cav2,Hopx,Aldoc,Cldn10,Gstm1',\n",
       "       'E330013P04Rik,Fabp7,Hopx,Gas1,2810459M11Rik,E130114P18Rik',\n",
       "       'Sowaha,Fam13a,Thrsp,Dffa,Cacna1e,Bcl2',\n",
       "       'Gja1,Sec14l2,Hes5,Mfge8,Plpp3,Atp1a2',\n",
       "       'Neurod1,Rgs20,Ttc28,Phkg1,Cyp2d22,Acss1',\n",
       "       'Acta2,Tagln,Myh11,Crip1,Myl9,Tpm2',\n",
       "       'Ccdc153,Tmem212,Krt15,Dynlrb2,1110017D15Rik,Dmkn',\n",
       "       '2810417H13Rik,Ube2c,Hmgb2,Lockd,Pbk,Top2a',\n",
       "       'Igfbpl1,Mpst,Cd24a,Sox11,Nnat,Hmgb3',\n",
       "       'Igfbpl1,Gal,Fgfr1,Sox11,Sstr2,Pafah1b3',\n",
       "       'Igfbpl1,Rerg,Cd24a,Sox11,Tubb2b,Calb2',\n",
       "       'Lhx1os,Nhlh2,Gm27199,Lhx1,Trp73,Lhx5',\n",
       "       'Pdgfra,Emid1,C1ql1,Neu4,Matn4,Olig2',\n",
       "       'Smoc2,Npnt,Cacna1h,Slit1,Dgat2,Ryr2',\n",
       "       'C1ql2,Rbm22,Rasl10a,Rilpl1,Stxbp6,Map2k1',\n",
       "       'Phf20l1,Rnf112,Crip2,Polr2g,Aprt,Btbd9',\n",
       "       'Crym,Ifi27,Sec23a,Mgst3,Ociad2,Nell2',\n",
       "       'Bok,Cabp7,Hpca,Neurod6,Fxyd7,Tesc',\n",
       "       'Ahcyl2,Npnt,Gm10605,Tubgcp2,Rfx3,Fam163b',\n",
       "       'C1ql2,Rprm,Rasl10a,Bdnf,Rab40b,Grp',\n",
       "       'C1ql2,Vamp4,Fam19a1,C1ql3,Prox1,Nrgn',\n",
       "       'C1ql2,Fem1b,Cald1,C1ql3,Rab40b,Grp',\n",
       "       'Tmem114,Gm17750,Bhlhe22,Islr2,Fxyd7,Ppp1r14c',\n",
       "       'Adgrl4,Slc4a1ap,Ly6c1,Lsr,Ptprb,Adgrf5',\n",
       "       'Gpr17,Gpr17,Gpr17,Gpr17,Gpr17,Gpr17',\n",
       "       'Flt1,Gpr4,Ctla2a,Kdr,Cdh5,Ly6a',\n",
       "       'Cldn5,Slc16a4,Pglyrp1,Itm2a,Igfbp7,Klf2',\n",
       "       'Higd1b,Kcnj8,Ndufa4l2,Rgs5,Vtn,Ly6a',\n",
       "       'Col1a2,Spp1,Col3a1,Igf2,Dcn,Nupr1',\n",
       "       'Ptgds,Slc6a13,Clec3b,Col1a1,Pcolce,Gjb2',\n",
       "       'Ebf1,Mlph,Hbb-bs,Cdkn2b,Ptprb,Serpinb6b',\n",
       "       'Hbb-bt,Fam46c,Hba-a1,Ube2l6,Isg20,Ly6a',\n",
       "       'Hba-a2,Alas2,Hbb-bs,Ube2l6,Fech,Mkrn1'], dtype=object)"
      ]
     },
     "execution_count": 164,
     "metadata": {},
     "output_type": "execute_result"
    }
   ],
   "source": [
    "# Marker genes remove whitespace and add comma\n",
    "for i in range(0,74):\n",
    "    MarkerGenes[i] = re.sub(\"\\s+\", \",\", MarkerGenes[i].strip())\n",
    "    #MarkerGenes[i] = re.sub(r'\\\"', \"'\", MarkerGenes[i].strip())"
   ]
  },
  {
   "cell_type": "code",
   "execution_count": 165,
   "metadata": {},
   "outputs": [
    {
     "data": {
      "text/plain": [
       "{'Oligos@OL,COP': ['Bmp4,Enpp6,Lims2,Bcas1,Bfsp2,Pak4'],\n",
       " 'Oligos@OL,OLIG': ['Mal,Adssl1,Ermn,Ppp1r14a,Mog,Nkx6-2'],\n",
       " 'Excluded@IEG,@OL,@VGLUT1,@XIN,DG-IGC,HC-CA1,HC-CA2,OLIG': ['Nov,Itgb4,Ermn,Arsg,Slain1,Myrf'],\n",
       " 'Excluded@OL,@VGLUT1,DG-GC,OLIG': ['Ugt8a,Ccnjl,Fa2h,Hapln2,S1pr5,Ttyh2'],\n",
       " 'Oligos@NBL,@NIPC,@OL,@VGLUT1,DG-GC,HC-CA2,OLIG': ['Gsn,Zpr1,Trim13,Ppp1r14a,Gjb1,Trim59'],\n",
       " 'Excluded@AEP,@OL,AC-NFB,OLIG': ['Ndrg1,Sdc4,Plekhh1,Gjc2,Tmem88b,Myrf'],\n",
       " 'Excluded@BMono,@IEG,@OL,MGL,OLIG': ['Lag3,Prim2,Laptm5,Tmem119,C1qb,Vav1'],\n",
       " 'Excluded@GABA,@IEG,@OL,CNC,HC-Cck-Cxcl14,HC-Vip-Calb2,OLIG': ['Opalin,Brinp3,Gab1,Ninj2,Pdlim2,Nipal4'],\n",
       " 'Excluded@GABA,@IEG,@OL,CB-MLI,CNC,DG-IGC,HC-Cacna2d1-Lhx6,HC-Sst-Npy,OLIG,Rgl2c': ['Opalin,Coro6,Lpar1,Mag,Gamt,Erbb3'],\n",
       " 'Neurons@GABA,DG-IGC,HC-Sst-Npy': ['Sst,Ccna1,Gpx3,Crhbp,Lypd6,Rbp4'],\n",
       " 'Neurons@GABA,CB-MLI,HC-Pvalb-Tac1,HC-Sst-Npy': ['Pvalb,Tac1,Pthlh,Cox6a2,Tcap,Nek7'],\n",
       " 'Neurons@AEP,@GABA,@XIN,AC-NFB,CB-MLI,HC-Cacna2d1-Lhx6,HC-Sst-Npy,Rgl2': ['2900052N01Rik,1700019G17Rik,Adhfe1,Rorb,Phka1,Slc9a3r1'],\n",
       " 'Neurons@VGLUT1': ['Bok,Cabp7,Hpca,Neurod6,Fxyd7,Tesc'],\n",
       " 'Neurons@GABA,HC-Cck-Cxcl14,HC-Vip-Calb2': ['Vip,Penk,Cbln2,Asic4,Tac2,Adra1b'],\n",
       " 'Neurons@GABA,HC-Ntng1-Chrm2,HC-Sst-Npy,PERI': ['Chrm2,Cyp26b1,Fst,Nell1,Rgs4,Rgs2'],\n",
       " 'Neurons@GABA,HC-Cacna2d1-Ndnf,HC-Ntng1-Chrm2,HC-Sst-Npy': ['Ntng1,Tmem132c,Stk32b,Gucy1a3,Rgs8,Pdzrn4'],\n",
       " 'Neurons@GABA,HC-Cacna2d1-Ndnf,HC-Sst-Npy': ['Lamp5,Cplx3,Hapln1,Sv2c,Pnoc,Lhx6'],\n",
       " 'Neurons@GABA,@POMC,HC-Sst-Npy': ['Ndnf,Pde3a,Rgs12,Cxcl14,Igf1,Igfbp5'],\n",
       " 'Neurons@GABA,HC-Sst-Npy': ['Col19a1,Gm16586,Rgs12,Trp53i11,Cpne5,Npas1'],\n",
       " 'Neurons@GABA,@POMC,@VGLUT3,DG-IGC,HC-Sst-Npy': ['Slc17a8,Cryba2,Prok2,Kctd12,Frem1,Wnt5a'],\n",
       " 'Neurons@GABA,DG-IGC': ['5330429C05Rik,Egln3,Krt73,Calcb,Htr2c,Adarb2'],\n",
       " 'Neurons@GABA,DG-IGC,HC-Cck-Cxcl14,HC-Sst-Npy,HC-Vip-Calb2': ['Htr3a,Olfm2,Gm8797,Yjefn3,Sncg,Npas1'],\n",
       " 'Neurons@VGLUT1,DG-IGC,HC-CA3': ['Hs3st4,Lsm11,Nr4a3,Rcn3,Pvrl3,Jsrp1'],\n",
       " 'Neurons@VGLUT1,DG-IGC,HC-CA1,HC-CA2': ['Spink8,4921539H07Rik,Lefty1,Neurod6,Rprml,Gm2115'],\n",
       " 'Neurons@VGLUT1,DG-IGC': ['Tshz2,Sv2b,Pde1a,Etv1,Fezf2,Ldb2'],\n",
       " 'Excluded@IEG,@VGLUT1,DG-IGC,HC-CA1,HC-CA2,VEC': ['Ankrd63,Slco1a4,Sox17,Kdr,Cxcl12,Grap'],\n",
       " 'Excluded@AEP,@VGLUT1,DG-IGC,HC-CA1,HC-CA2,HC-CA3': ['Wfs1,Raver2,Pou3f1,Rasgrp1,Prkcg,Gm2115'],\n",
       " 'Excluded@BMono,@VGLUT1,DG-IGC,HC-CA1,HC-CA2,MGL': ['Cx3cr1,Fibcd1,C1qa,Itgam,Hexb,C1qc'],\n",
       " 'Immune@BMono,MGL,PVM': ['Pf4,Lyz2,Ms4a7,Cd209f,Ccl24,F13a1'],\n",
       " 'Immune@BMono,@IEG,MGL,OPC': ['Lhfpl3,Mpeg1,Laptm5,Fcrls,Irf8,Adap2os'],\n",
       " 'Immune@BMono,@IEG,MGL': ['P2ry12,Ccl4,Ctss,Tmem119,Trem2,C1qc'],\n",
       " 'Immune@BMono,@VGLUT1,DG-GC,MGL': ['Cx3cr1,Tmem108,C1qa,Tmem119,Trem2,Bin2'],\n",
       " 'Immune@BMono,@IEG,@NBL,DG-GNB,DG-IGC,MGL,NblastM': ['Samsn1,Tyrobp,C1qa,Gpr34,Ccrl2,Fcer1g'],\n",
       " 'Excluded@AEP,@BMono,AC-NFB,MGL': ['Selplg,Pde3b,Ctss,Itgam,Ly86,Lpcat2'],\n",
       " 'Excluded@AEP,@BMono,MGL': ['Csf1r,Lgi4,Laptm5,Fcgr3,P2ry13,C1qc'],\n",
       " 'Astrocytes@AEP,@BMono,MGL': ['C4b,Gfap,Gm10561,Lrp4,Dio2,Hspb8'],\n",
       " 'Astrocytes@AEP,AC-NFB': ['Aqp4,Agt,Mlc1,Acsbg1,Fam107a,Ntsr2'],\n",
       " 'AstrocytesAC-NFB': ['Id4,Cav2,Hopx,Aldoc,Cldn10,Gstm1'],\n",
       " 'Astrocytes@Pall,DG-RGL': ['E330013P04Rik,Fabp7,Hopx,Gas1,2810459M11Rik,E130114P18Rik'],\n",
       " 'Neurons@VGLUT1,DG-GC,HC-CA2': ['Sowaha,Fam13a,Thrsp,Dffa,Cacna1e,Bcl2'],\n",
       " 'Excluded@AEP,@VGLUT1,DG-GC': ['Gja1,Sec14l2,Hes5,Mfge8,Plpp3,Atp1a2'],\n",
       " 'Astrocytes@AEP,@NBL,DG-GNB,DG-IGC': ['Neurod1,Rgs20,Ttc28,Phkg1,Cyp2d22,Acss1'],\n",
       " 'Vascular@IEG,PERI': ['Acta2,Tagln,Myh11,Crip1,Myl9,Tpm2'],\n",
       " 'Ependymal@AEP,@IEG,EPN,OB-OEC': ['Ccdc153,Tmem212,Krt15,Dynlrb2,1110017D15Rik,Dmkn'],\n",
       " 'Neurons@CC,@IEG,@NBL,@NIPC,@Pall,DG-NIPC': ['2810417H13Rik,Ube2c,Hmgb2,Lockd,Pbk,Top2a'],\n",
       " 'Neurons@NBL,DG-GNB,NblastM': ['Igfbpl1,Rerg,Cd24a,Sox11,Tubb2b,Calb2'],\n",
       " 'Neurons@VGLUT2,CRC': ['Lhx1os,Nhlh2,Gm27199,Lhx1,Trp73,Lhx5'],\n",
       " 'OligosOPC': ['Pdgfra,Emid1,C1ql1,Neu4,Matn4,Olig2'],\n",
       " 'Neurons@VGLUT1,DG-GC': ['C1ql2,Rprm,Rasl10a,Bdnf,Rab40b,Grp'],\n",
       " 'NeuronsDG-GC': ['C1ql2,Fem1b,Cald1,C1ql3,Rab40b,Grp'],\n",
       " 'Neurons@NBL,@VGLUT1,DG-GC,DG-IGC,NblastM': ['Tmem114,Gm17750,Bhlhe22,Islr2,Fxyd7,Ppp1r14c'],\n",
       " 'Vascular@VGLUT1,DG-GC,VEC': ['Adgrl4,Slc4a1ap,Ly6c1,Lsr,Ptprb,Adgrf5'],\n",
       " 'Neurons@GNRH,@HCRT,@IEG,@NBL,@NIPC,@VGLUT1,@VGLUT2,@VGLUT3,HC-CA2': ['Gpr17,Gpr17,Gpr17,Gpr17,Gpr17,Gpr17'],\n",
       " 'Excluded@AEP,AC-NFB,VEC': ['Flt1,Gpr4,Ctla2a,Kdr,Cdh5,Ly6a'],\n",
       " 'VascularVEC': ['Higd1b,Kcnj8,Ndufa4l2,Rgs5,Vtn,Ly6a'],\n",
       " 'Vascular@IEG,VLMC': ['Ptgds,Slc6a13,Clec3b,Col1a1,Pcolce,Gjb2'],\n",
       " 'VascularERY,VEC': ['Hbb-bt,Fam46c,Hba-a1,Ube2l6,Isg20,Ly6a'],\n",
       " 'BloodERY': ['Hba-a2,Alas2,Hbb-bs,Ube2l6,Fech,Mkrn1']}"
      ]
     },
     "execution_count": 165,
     "metadata": {},
     "output_type": "execute_result"
    }
   ],
   "source": [
    "# Create dictionary for CellID and markger genes\n",
    "dicts = {}\n",
    "for i in range(0,74):\n",
    "    dicts[Class_AutoAnnotation[i]] = [MarkerGenes[i]]"
   ]
  },
  {
   "cell_type": "code",
   "execution_count": 166,
   "metadata": {},
   "outputs": [],
   "source": [
    "# Create DataFrame\n",
    "ds_df_markers = pd.DataFrame.from_dict(dicts)"
   ]
  },
  {
   "cell_type": "code",
   "execution_count": 167,
   "metadata": {},
   "outputs": [
    {
     "data": {
      "text/html": [
       "<div>\n",
       "<style scoped>\n",
       "    .dataframe tbody tr th:only-of-type {\n",
       "        vertical-align: middle;\n",
       "    }\n",
       "\n",
       "    .dataframe tbody tr th {\n",
       "        vertical-align: top;\n",
       "    }\n",
       "\n",
       "    .dataframe thead th {\n",
       "        text-align: right;\n",
       "    }\n",
       "</style>\n",
       "<table border=\"1\" class=\"dataframe\">\n",
       "  <thead>\n",
       "    <tr style=\"text-align: right;\">\n",
       "      <th></th>\n",
       "      <th>Oligos@OL,COP</th>\n",
       "      <th>Oligos@OL,OLIG</th>\n",
       "      <th>Excluded@IEG,@OL,@VGLUT1,@XIN,DG-IGC,HC-CA1,HC-CA2,OLIG</th>\n",
       "      <th>Excluded@OL,@VGLUT1,DG-GC,OLIG</th>\n",
       "      <th>Oligos@NBL,@NIPC,@OL,@VGLUT1,DG-GC,HC-CA2,OLIG</th>\n",
       "      <th>Excluded@AEP,@OL,AC-NFB,OLIG</th>\n",
       "      <th>Excluded@BMono,@IEG,@OL,MGL,OLIG</th>\n",
       "      <th>Excluded@GABA,@IEG,@OL,CNC,HC-Cck-Cxcl14,HC-Vip-Calb2,OLIG</th>\n",
       "      <th>Excluded@GABA,@IEG,@OL,CB-MLI,CNC,DG-IGC,HC-Cacna2d1-Lhx6,HC-Sst-Npy,OLIG,Rgl2c</th>\n",
       "      <th>Neurons@GABA,DG-IGC,HC-Sst-Npy</th>\n",
       "      <th>...</th>\n",
       "      <th>Neurons@VGLUT1,DG-GC</th>\n",
       "      <th>NeuronsDG-GC</th>\n",
       "      <th>Neurons@NBL,@VGLUT1,DG-GC,DG-IGC,NblastM</th>\n",
       "      <th>Vascular@VGLUT1,DG-GC,VEC</th>\n",
       "      <th>Neurons@GNRH,@HCRT,@IEG,@NBL,@NIPC,@VGLUT1,@VGLUT2,@VGLUT3,HC-CA2</th>\n",
       "      <th>Excluded@AEP,AC-NFB,VEC</th>\n",
       "      <th>VascularVEC</th>\n",
       "      <th>Vascular@IEG,VLMC</th>\n",
       "      <th>VascularERY,VEC</th>\n",
       "      <th>BloodERY</th>\n",
       "    </tr>\n",
       "  </thead>\n",
       "  <tbody>\n",
       "    <tr>\n",
       "      <th>0</th>\n",
       "      <td>Bmp4,Enpp6,Lims2,Bcas1,Bfsp2,Pak4</td>\n",
       "      <td>Mal,Adssl1,Ermn,Ppp1r14a,Mog,Nkx6-2</td>\n",
       "      <td>Nov,Itgb4,Ermn,Arsg,Slain1,Myrf</td>\n",
       "      <td>Ugt8a,Ccnjl,Fa2h,Hapln2,S1pr5,Ttyh2</td>\n",
       "      <td>Gsn,Zpr1,Trim13,Ppp1r14a,Gjb1,Trim59</td>\n",
       "      <td>Ndrg1,Sdc4,Plekhh1,Gjc2,Tmem88b,Myrf</td>\n",
       "      <td>Lag3,Prim2,Laptm5,Tmem119,C1qb,Vav1</td>\n",
       "      <td>Opalin,Brinp3,Gab1,Ninj2,Pdlim2,Nipal4</td>\n",
       "      <td>Opalin,Coro6,Lpar1,Mag,Gamt,Erbb3</td>\n",
       "      <td>Sst,Ccna1,Gpx3,Crhbp,Lypd6,Rbp4</td>\n",
       "      <td>...</td>\n",
       "      <td>C1ql2,Rprm,Rasl10a,Bdnf,Rab40b,Grp</td>\n",
       "      <td>C1ql2,Fem1b,Cald1,C1ql3,Rab40b,Grp</td>\n",
       "      <td>Tmem114,Gm17750,Bhlhe22,Islr2,Fxyd7,Ppp1r14c</td>\n",
       "      <td>Adgrl4,Slc4a1ap,Ly6c1,Lsr,Ptprb,Adgrf5</td>\n",
       "      <td>Gpr17,Gpr17,Gpr17,Gpr17,Gpr17,Gpr17</td>\n",
       "      <td>Flt1,Gpr4,Ctla2a,Kdr,Cdh5,Ly6a</td>\n",
       "      <td>Higd1b,Kcnj8,Ndufa4l2,Rgs5,Vtn,Ly6a</td>\n",
       "      <td>Ptgds,Slc6a13,Clec3b,Col1a1,Pcolce,Gjb2</td>\n",
       "      <td>Hbb-bt,Fam46c,Hba-a1,Ube2l6,Isg20,Ly6a</td>\n",
       "      <td>Hba-a2,Alas2,Hbb-bs,Ube2l6,Fech,Mkrn1</td>\n",
       "    </tr>\n",
       "  </tbody>\n",
       "</table>\n",
       "<p>1 rows × 58 columns</p>\n",
       "</div>"
      ],
      "text/plain": [
       "                       Oligos@OL,COP                       Oligos@OL,OLIG  \\\n",
       "0  Bmp4,Enpp6,Lims2,Bcas1,Bfsp2,Pak4  Mal,Adssl1,Ermn,Ppp1r14a,Mog,Nkx6-2   \n",
       "\n",
       "  Excluded@IEG,@OL,@VGLUT1,@XIN,DG-IGC,HC-CA1,HC-CA2,OLIG  \\\n",
       "0                    Nov,Itgb4,Ermn,Arsg,Slain1,Myrf        \n",
       "\n",
       "        Excluded@OL,@VGLUT1,DG-GC,OLIG  \\\n",
       "0  Ugt8a,Ccnjl,Fa2h,Hapln2,S1pr5,Ttyh2   \n",
       "\n",
       "  Oligos@NBL,@NIPC,@OL,@VGLUT1,DG-GC,HC-CA2,OLIG  \\\n",
       "0           Gsn,Zpr1,Trim13,Ppp1r14a,Gjb1,Trim59   \n",
       "\n",
       "           Excluded@AEP,@OL,AC-NFB,OLIG     Excluded@BMono,@IEG,@OL,MGL,OLIG  \\\n",
       "0  Ndrg1,Sdc4,Plekhh1,Gjc2,Tmem88b,Myrf  Lag3,Prim2,Laptm5,Tmem119,C1qb,Vav1   \n",
       "\n",
       "  Excluded@GABA,@IEG,@OL,CNC,HC-Cck-Cxcl14,HC-Vip-Calb2,OLIG  \\\n",
       "0             Opalin,Brinp3,Gab1,Ninj2,Pdlim2,Nipal4           \n",
       "\n",
       "  Excluded@GABA,@IEG,@OL,CB-MLI,CNC,DG-IGC,HC-Cacna2d1-Lhx6,HC-Sst-Npy,OLIG,Rgl2c  \\\n",
       "0                  Opalin,Coro6,Lpar1,Mag,Gamt,Erbb3                                \n",
       "\n",
       "    Neurons@GABA,DG-IGC,HC-Sst-Npy  ...                Neurons@VGLUT1,DG-GC  \\\n",
       "0  Sst,Ccna1,Gpx3,Crhbp,Lypd6,Rbp4  ...  C1ql2,Rprm,Rasl10a,Bdnf,Rab40b,Grp   \n",
       "\n",
       "                         NeuronsDG-GC  \\\n",
       "0  C1ql2,Fem1b,Cald1,C1ql3,Rab40b,Grp   \n",
       "\n",
       "       Neurons@NBL,@VGLUT1,DG-GC,DG-IGC,NblastM  \\\n",
       "0  Tmem114,Gm17750,Bhlhe22,Islr2,Fxyd7,Ppp1r14c   \n",
       "\n",
       "                Vascular@VGLUT1,DG-GC,VEC  \\\n",
       "0  Adgrl4,Slc4a1ap,Ly6c1,Lsr,Ptprb,Adgrf5   \n",
       "\n",
       "  Neurons@GNRH,@HCRT,@IEG,@NBL,@NIPC,@VGLUT1,@VGLUT2,@VGLUT3,HC-CA2  \\\n",
       "0                Gpr17,Gpr17,Gpr17,Gpr17,Gpr17,Gpr17                  \n",
       "\n",
       "          Excluded@AEP,AC-NFB,VEC                          VascularVEC  \\\n",
       "0  Flt1,Gpr4,Ctla2a,Kdr,Cdh5,Ly6a  Higd1b,Kcnj8,Ndufa4l2,Rgs5,Vtn,Ly6a   \n",
       "\n",
       "                         Vascular@IEG,VLMC  \\\n",
       "0  Ptgds,Slc6a13,Clec3b,Col1a1,Pcolce,Gjb2   \n",
       "\n",
       "                          VascularERY,VEC  \\\n",
       "0  Hbb-bt,Fam46c,Hba-a1,Ube2l6,Isg20,Ly6a   \n",
       "\n",
       "                                BloodERY  \n",
       "0  Hba-a2,Alas2,Hbb-bs,Ube2l6,Fech,Mkrn1  \n",
       "\n",
       "[1 rows x 58 columns]"
      ]
     },
     "execution_count": 167,
     "metadata": {},
     "output_type": "execute_result"
    }
   ],
   "source": [
    "# Check\n",
    "ds_df_markers"
   ]
  },
  {
   "cell_type": "code",
   "execution_count": 168,
   "metadata": {},
   "outputs": [],
   "source": [
    "# Filtered out ID containing Excluded\n",
    "ds_df_markers_filtered = ds_df_markers.filter(regex= 'Oligos|Neurons|Immune|Astrocytes|Ependymal|Vascular')"
   ]
  },
  {
   "cell_type": "code",
   "execution_count": 169,
   "metadata": {},
   "outputs": [],
   "source": [
    "# Save DataFrame\n",
    "ds_df_markers_filtered.to_csv(\"/home/skim/Documents/Heppner_Microglia/Automation/l1_hippocampus_aggregate_Markers.txt\", sep= \" \", header=True, index=True)"
   ]
  },
  {
   "cell_type": "code",
   "execution_count": null,
   "metadata": {},
   "outputs": [],
   "source": []
  },
  {
   "cell_type": "code",
   "execution_count": null,
   "metadata": {},
   "outputs": [],
   "source": []
  }
 ],
 "metadata": {
  "kernelspec": {
   "display_name": "Python 3",
   "language": "python",
   "name": "python3"
  },
  "language_info": {
   "codemirror_mode": {
    "name": "ipython",
    "version": 3
   },
   "file_extension": ".py",
   "mimetype": "text/x-python",
   "name": "python",
   "nbconvert_exporter": "python",
   "pygments_lexer": "ipython3",
   "version": "3.7.3"
  }
 },
 "nbformat": 4,
 "nbformat_minor": 2
}
